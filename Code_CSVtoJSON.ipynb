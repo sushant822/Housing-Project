{
 "cells": [
  {
   "cell_type": "code",
   "execution_count": null,
   "metadata": {},
   "outputs": [],
   "source": [
    "import csv \n",
    "import json \n",
    "\n",
    "\n",
    "# Function to convert a CSV to JSON \n",
    "# Takes the file paths as arguments \n",
    "def make_json(csvFilePath, jsonFilePath): \n",
    "\t\n",
    "\t# create a dictionary \n",
    "\tdata = {} \n",
    "\t\n",
    "\t# Open a csv reader called DictReader \n",
    "\twith open(csvFilePath, encoding='utf-8') as csvf: \n",
    "\t\tcsvReader = csv.DictReader(csvf) \n",
    "\t\t\n",
    "\t\t# Convert each row into a dictionary \n",
    "\t\t# and add it to data \n",
    "\t\tfor rows in csvReader: \n",
    "\t\t\t\n",
    "\t\t\t# Assuming a column named 'No' to \n",
    "\t\t\t# be the primary key \n",
    "\t\t\tkey = rows['No'] \n",
    "\t\t\tdata[key] = rows \n",
    "\n",
    "\t# Open a json writer, and use the json.dumps() \n",
    "\t# function to dump data \n",
    "\twith open(jsonFilePath, 'w', encoding='utf-8') as jsonf: \n",
    "\t\tjsonf.write(json.dumps(data, indent=4)) \n",
    "\t\t\n",
    "# Driver Code \n",
    "\n",
    "# Decide the two file paths according to your \n",
    "# computer system \n",
    "csvFilePath = r'Names.csv'\n",
    "jsonFilePath = r'Names.json'\n",
    "\n",
    "# Call the make_json function \n",
    "make_json(csvFilePath, jsonFilePath)\n"
   ]
  }
 ],
 "metadata": {
  "kernelspec": {
   "display_name": "Python 3",
   "language": "python",
   "name": "python3"
  },
  "language_info": {
   "codemirror_mode": {
    "name": "ipython",
    "version": 3
   },
   "file_extension": ".py",
   "mimetype": "text/x-python",
   "name": "python",
   "nbconvert_exporter": "python",
   "pygments_lexer": "ipython3",
   "version": "3.7.6"
  }
 },
 "nbformat": 4,
 "nbformat_minor": 4
}
