{
 "cells": [
  {
   "cell_type": "code",
   "execution_count": 1,
   "metadata": {},
   "outputs": [
    {
     "name": "stdout",
     "output_type": "stream",
     "text": [
      "Libraries imported!\n"
     ]
    }
   ],
   "source": [
    "import pandas as pd\n",
    "import numpy as np\n",
    "import requests\n",
    "from bs4 import BeautifulSoup\n",
    "import time\n",
    "from math import sin, cos, sqrt, atan2, radians\n",
    "import re\n",
    "import warnings\n",
    "warnings.filterwarnings('ignore')\n",
    "print('Libraries imported!')"
   ]
  },
  {
   "cell_type": "code",
   "execution_count": 2,
   "metadata": {},
   "outputs": [],
   "source": [
    "house_address_all = []\n",
    "house_details_all = []\n",
    "house_address = []\n",
    "house_details = []\n",
    "postal_code_array = []\n",
    "latitude_array = []\n",
    "longitude_array = []\n",
    "year_built_array = []\n",
    "payment_monthly = []\n",
    "lot_size = []\n",
    "basement = []\n",
    "garage = []\n",
    "mlsa = []\n",
    "mls_array = []\n",
    "\n",
    "base_url = 'https://www.remax.ca/ab/calgary-real-estate?page='\n",
    "urls = [base_url + str(x) for x in range(1,110)]\n",
    "\n",
    "for url in urls:\n",
    "    \n",
    "    #browser.visit(url)\n",
    "    time.sleep(5)\n",
    "\n",
    "    # Parse HTML with Beautiful Soup\n",
    "    response = requests.get(url)\n",
    "    soup = BeautifulSoup(response.text, 'html.parser')\n",
    "    \n",
    "    #time.sleep(5)\n",
    "    \n",
    "    for each in soup.find_all(class_= \"card-text ng-star-inserted\" ):\n",
    "        try: \n",
    "            mls = each.find(class_='mlsNumber').text.replace('MLS® #: ', '')\n",
    "            mls_array.append(mls)\n",
    "        except:\n",
    "            mls_array.append(np.nan)\n",
    "\n",
    "    try:\n",
    "        addresses = soup.find_all('div', class_='left-content flex-one')\n",
    "        for address in addresses:\n",
    "            house_address_all.append(address.text)\n",
    "    except:\n",
    "        house_address_all.append('None')\n",
    "        \n",
    "    #time.sleep(5)\n",
    "        \n",
    "    try:\n",
    "        details = soup.find_all('div', class_='property-details')\n",
    "        for detail in details:\n",
    "            house_details_all.append(detail.text)\n",
    "    except:\n",
    "        house_details_all.append('None')\n",
    "        \n",
    "    #time.sleep(5)\n",
    "        \n",
    "    house_details_more=[]\n",
    "    url_house = []\n",
    "        \n",
    "    try:\n",
    "        for detail in soup.find_all('a'):\n",
    "            house_details_more.append(detail.get('href'))\n",
    "    except:\n",
    "        house_details_more.append('None')\n",
    "    \n",
    "    #time.sleep(5)\n",
    "\n",
    "    for i in house_details_more:\n",
    "        if '/ab/calgary-real-estate/' in str(i):\n",
    "            link = 'https://www.remax.ca' + str(i)\n",
    "            url_house.append(link)\n",
    "            \n",
    "    #time.sleep(5)\n",
    "    \n",
    "    for i in url_house:\n",
    "    \n",
    "        time.sleep(5)\n",
    "\n",
    "        page = requests.get(i)\n",
    "        soup = BeautifulSoup(page.text, \"html.parser\")\n",
    "\n",
    "        #lat_all = soup.find_all('script')[3]\n",
    "        lat3 = soup.find_all('script')[3]\n",
    "        lat4 = soup.find_all('script')[4]\n",
    "        \n",
    "        string3 = ', '.join(lat3)\n",
    "        string4 = ', '.join(lat4)\n",
    "        \n",
    "        #string = ', '.join(lat_all)\n",
    "        #pc = \"postalCode\"\n",
    "        #position_pc = string.find(pc)\n",
    "        #pcd = string[(position_pc+14):(position_pc+20)]\n",
    "        #postal_code_array.append(pcd)\n",
    "        \n",
    "        lat = \"latitude\"\n",
    "        if lat in string3:\n",
    "            position_lat = string3.find(lat)\n",
    "            latd = string3[(position_lat+11):(position_lat+20)]\n",
    "            latitude_array.append(latd)\n",
    "        elif lat in string4:\n",
    "            position_lat = string4.find(lat)\n",
    "            latd = string4[(position_lat+11):(position_lat+20)]\n",
    "            latitude_array.append(latd)\n",
    "        else:\n",
    "            latitude_array.append(np.nan)\n",
    "\n",
    "        long = \"longitude\"\n",
    "        if long in string3:\n",
    "            position_lat = string3.find(long)\n",
    "            latd = string3[(position_lat+11):(position_lat+20)]\n",
    "            longitude_array.append(latd)\n",
    "        elif long in string4:\n",
    "            position_lat = string4.find(long)\n",
    "            latd = string4[(position_lat+11):(position_lat+20)]\n",
    "            longitude_array.append(latd)\n",
    "        else:\n",
    "            longitude_array.append(np.nan)\n",
    "\n",
    "        house_address = []\n",
    "\n",
    "        #time.sleep(5)\n",
    "\n",
    "        try:\n",
    "            addresses = soup.find_all('section', class_='property-details')\n",
    "            for address in addresses:\n",
    "                house_address.append(address.text)\n",
    "        except:\n",
    "            house_address.append('None')\n",
    "\n",
    "        #time.sleep(5)\n",
    "\n",
    "        string = ', '.join(house_address)\n",
    "        s_year = \"Year Built: \"\n",
    "        if s_year in string:            \n",
    "            position_year = string.find(s_year)\n",
    "            year_built = string[(position_year+12):(position_year+16)]\n",
    "            year_built_array.append(year_built)\n",
    "        else:\n",
    "            year_built_array.append(np.nan)\n",
    "        \n",
    "        s_lot = \"Lot Size: \"\n",
    "        if s_lot in string:\n",
    "            try:\n",
    "                start = string.rindex(s_lot) + len(s_lot)\n",
    "                end = string.rindex(\"Occupancy\", start )\n",
    "                lot_size.append(string[start:end])\n",
    "            except:\n",
    "                lot_size.append(np.nan)\n",
    "        else:\n",
    "            lot_size.append(np.nan)\n",
    "        \n",
    "        basement_yn = \"Basement\"\n",
    "        if basement_yn in string:\n",
    "            basement.append(1)\n",
    "        else:\n",
    "            basement.append(0)\n",
    "            \n",
    "        garage_yn = \"Garage\"\n",
    "        if garage_yn in string:\n",
    "            garage.append(1)\n",
    "        else:\n",
    "            garage.append(0)\n",
    "        \n",
    "        try:\n",
    "            payment = soup.find(class_=\"payment-amount\").text\n",
    "            payment_monthly.append(payment)\n",
    "        except:\n",
    "            payment_monthly.append(np.nan)\n",
    "        \n",
    "        #result = re.search('MLSÂ® #: (.*)Ownership', string)\n",
    "        #result_app = result.group(1)\n",
    "        #mlsa.append(result.group(1))\n",
    "        \n",
    "        mlsa_number = \"MLSÂ® #: \"\n",
    "        try:\n",
    "            start = string.rindex(mlsa_number) + len(mlsa_number)\n",
    "            end = string.rindex(\"Ownership\", start )\n",
    "            mlsa.append(string[start:end])\n",
    "        except:\n",
    "            #mlsa_pos = string.find(mlsa_number)\n",
    "            #mlsa_temp = string[(mlsa_pos+8):(mlsa_pos+16)]\n",
    "            mlsa.append(np.nan)\n",
    "\n",
    "        #time.sleep(5)"
   ]
  },
  {
   "cell_type": "code",
   "execution_count": 3,
   "metadata": {},
   "outputs": [
    {
     "data": {
      "text/plain": [
       "['51.080529', '51.132727', '51.164469', '51.136122', '51.06472,']"
      ]
     },
     "execution_count": 3,
     "metadata": {},
     "output_type": "execute_result"
    }
   ],
   "source": [
    "latitude_array[:5]"
   ]
  },
  {
   "cell_type": "code",
   "execution_count": 4,
   "metadata": {},
   "outputs": [
    {
     "data": {
      "text/plain": [
       "[' -114.145', ' -114.247', ' -114.057', ' -114.196', ' -114.209']"
      ]
     },
     "execution_count": 4,
     "metadata": {},
     "output_type": "execute_result"
    }
   ],
   "source": [
    "longitude_array[:5]"
   ]
  },
  {
   "cell_type": "code",
   "execution_count": 5,
   "metadata": {},
   "outputs": [
    {
     "data": {
      "text/html": [
       "<div>\n",
       "<style scoped>\n",
       "    .dataframe tbody tr th:only-of-type {\n",
       "        vertical-align: middle;\n",
       "    }\n",
       "\n",
       "    .dataframe tbody tr th {\n",
       "        vertical-align: top;\n",
       "    }\n",
       "\n",
       "    .dataframe thead th {\n",
       "        text-align: right;\n",
       "    }\n",
       "</style>\n",
       "<table border=\"1\" class=\"dataframe\">\n",
       "  <thead>\n",
       "    <tr style=\"text-align: right;\">\n",
       "      <th></th>\n",
       "      <th>0</th>\n",
       "    </tr>\n",
       "  </thead>\n",
       "  <tbody>\n",
       "    <tr>\n",
       "      <th>0</th>\n",
       "      <td>MLSÂ® #: A1046940</td>\n",
       "    </tr>\n",
       "    <tr>\n",
       "      <th>1</th>\n",
       "      <td>MLSÂ® #: A1047091</td>\n",
       "    </tr>\n",
       "    <tr>\n",
       "      <th>2</th>\n",
       "      <td>MLSÂ® #: A1046748</td>\n",
       "    </tr>\n",
       "    <tr>\n",
       "      <th>3</th>\n",
       "      <td>MLSÂ® #: A1047017</td>\n",
       "    </tr>\n",
       "    <tr>\n",
       "      <th>4</th>\n",
       "      <td>MLSÂ® #: A1047046</td>\n",
       "    </tr>\n",
       "  </tbody>\n",
       "</table>\n",
       "</div>"
      ],
      "text/plain": [
       "                   0\n",
       "0  MLSÂ® #: A1046940\n",
       "1  MLSÂ® #: A1047091\n",
       "2  MLSÂ® #: A1046748\n",
       "3  MLSÂ® #: A1047017\n",
       "4  MLSÂ® #: A1047046"
      ]
     },
     "execution_count": 5,
     "metadata": {},
     "output_type": "execute_result"
    }
   ],
   "source": [
    "mls_array_df_temp = pd.DataFrame(mls_array)\n",
    "mls_array_df_temp.head()"
   ]
  },
  {
   "cell_type": "code",
   "execution_count": 6,
   "metadata": {},
   "outputs": [
    {
     "data": {
      "text/plain": [
       "0    A1046940\n",
       "1    A1047091\n",
       "2    A1046748\n",
       "3    A1047017\n",
       "4    A1047046\n",
       "Name: 1, dtype: object"
      ]
     },
     "execution_count": 6,
     "metadata": {},
     "output_type": "execute_result"
    }
   ],
   "source": [
    "mls_array_df = mls_array_df_temp[0].str.split(\"MLSÂ® #: \", 1, expand=True)\n",
    "mls_array_df[1].head()"
   ]
  },
  {
   "cell_type": "code",
   "execution_count": 7,
   "metadata": {},
   "outputs": [
    {
     "data": {
      "text/html": [
       "<div>\n",
       "<style scoped>\n",
       "    .dataframe tbody tr th:only-of-type {\n",
       "        vertical-align: middle;\n",
       "    }\n",
       "\n",
       "    .dataframe tbody tr th {\n",
       "        vertical-align: top;\n",
       "    }\n",
       "\n",
       "    .dataframe thead th {\n",
       "        text-align: right;\n",
       "    }\n",
       "</style>\n",
       "<table border=\"1\" class=\"dataframe\">\n",
       "  <thead>\n",
       "    <tr style=\"text-align: right;\">\n",
       "      <th></th>\n",
       "      <th>2</th>\n",
       "      <th>price</th>\n",
       "    </tr>\n",
       "  </thead>\n",
       "  <tbody>\n",
       "    <tr>\n",
       "      <th>0</th>\n",
       "      <td>14 Norford Common NW, Calgary, AB, T3G 6G6</td>\n",
       "      <td>649900</td>\n",
       "    </tr>\n",
       "    <tr>\n",
       "      <th>1</th>\n",
       "      <td>5 TUSCANY SPRINGS TERR NW, Calgary, AB, T3L 2V2</td>\n",
       "      <td>648000</td>\n",
       "    </tr>\n",
       "    <tr>\n",
       "      <th>2</th>\n",
       "      <td>240 COVEPARK CLOSE NE, Calgary, AB, T3K 5R3</td>\n",
       "      <td>359500</td>\n",
       "    </tr>\n",
       "    <tr>\n",
       "      <th>3</th>\n",
       "      <td>255 ARBOUR VISTA RD NW, Calgary, AB, T3G 4N8</td>\n",
       "      <td>1250000</td>\n",
       "    </tr>\n",
       "    <tr>\n",
       "      <th>4</th>\n",
       "      <td>716 - 8505 BROADCAST AVE SW, Calgary, AB, T3H 6B5</td>\n",
       "      <td>334900</td>\n",
       "    </tr>\n",
       "  </tbody>\n",
       "</table>\n",
       "</div>"
      ],
      "text/plain": [
       "                                                   2    price\n",
       "0         14 Norford Common NW, Calgary, AB, T3G 6G6   649900\n",
       "1    5 TUSCANY SPRINGS TERR NW, Calgary, AB, T3L 2V2   648000\n",
       "2        240 COVEPARK CLOSE NE, Calgary, AB, T3K 5R3   359500\n",
       "3       255 ARBOUR VISTA RD NW, Calgary, AB, T3G 4N8  1250000\n",
       "4  716 - 8505 BROADCAST AVE SW, Calgary, AB, T3H 6B5   334900"
      ]
     },
     "execution_count": 7,
     "metadata": {},
     "output_type": "execute_result"
    }
   ],
   "source": [
    "address_df = pd.DataFrame(house_address_all)\n",
    "\n",
    "new_df = address_df[0].str.split(' ', 2, expand=True)\n",
    "new_df[\"price\"] = new_df[1].str.replace(\"$\", \"\")\n",
    "new_df[\"price\"] = new_df[\"price\"].str.replace(\",\", \"\")\n",
    "new_df[\"price\"] = pd.to_numeric(new_df[\"price\"])\n",
    "\n",
    "del new_df[0]\n",
    "del new_df[1]\n",
    "new_df.head()"
   ]
  },
  {
   "cell_type": "code",
   "execution_count": 8,
   "metadata": {
    "scrolled": true
   },
   "outputs": [
    {
     "data": {
      "text/html": [
       "<div>\n",
       "<style scoped>\n",
       "    .dataframe tbody tr th:only-of-type {\n",
       "        vertical-align: middle;\n",
       "    }\n",
       "\n",
       "    .dataframe tbody tr th {\n",
       "        vertical-align: top;\n",
       "    }\n",
       "\n",
       "    .dataframe thead th {\n",
       "        text-align: right;\n",
       "    }\n",
       "</style>\n",
       "<table border=\"1\" class=\"dataframe\">\n",
       "  <thead>\n",
       "    <tr style=\"text-align: right;\">\n",
       "      <th></th>\n",
       "      <th>0</th>\n",
       "      <th>1</th>\n",
       "    </tr>\n",
       "  </thead>\n",
       "  <tbody>\n",
       "    <tr>\n",
       "      <th>0</th>\n",
       "      <td>14 Norford Common NW</td>\n",
       "      <td>T3G 6G6</td>\n",
       "    </tr>\n",
       "    <tr>\n",
       "      <th>1</th>\n",
       "      <td>5 TUSCANY SPRINGS TERR NW</td>\n",
       "      <td>T3L 2V2</td>\n",
       "    </tr>\n",
       "    <tr>\n",
       "      <th>2</th>\n",
       "      <td>240 COVEPARK CLOSE NE</td>\n",
       "      <td>T3K 5R3</td>\n",
       "    </tr>\n",
       "    <tr>\n",
       "      <th>3</th>\n",
       "      <td>255 ARBOUR VISTA RD NW</td>\n",
       "      <td>T3G 4N8</td>\n",
       "    </tr>\n",
       "    <tr>\n",
       "      <th>4</th>\n",
       "      <td>716 - 8505 BROADCAST AVE SW</td>\n",
       "      <td>T3H 6B5</td>\n",
       "    </tr>\n",
       "  </tbody>\n",
       "</table>\n",
       "</div>"
      ],
      "text/plain": [
       "                             0        1\n",
       "0         14 Norford Common NW  T3G 6G6\n",
       "1    5 TUSCANY SPRINGS TERR NW  T3L 2V2\n",
       "2        240 COVEPARK CLOSE NE  T3K 5R3\n",
       "3       255 ARBOUR VISTA RD NW  T3G 4N8\n",
       "4  716 - 8505 BROADCAST AVE SW  T3H 6B5"
      ]
     },
     "execution_count": 8,
     "metadata": {},
     "output_type": "execute_result"
    }
   ],
   "source": [
    "final_df_pc = new_df[2].str.split(', Calgary, AB, ', expand=True)\n",
    "final_df_pc.head()"
   ]
  },
  {
   "cell_type": "code",
   "execution_count": 9,
   "metadata": {
    "scrolled": true
   },
   "outputs": [
    {
     "data": {
      "text/plain": [
       "0    T3G 6G6\n",
       "1    T3L 2V2\n",
       "2    T3K 5R3\n",
       "3    T3G 4N8\n",
       "4    T3H 6B5\n",
       "Name: 1, dtype: object"
      ]
     },
     "execution_count": 9,
     "metadata": {},
     "output_type": "execute_result"
    }
   ],
   "source": [
    "#final_df_pc_clean = final_df_pc[1].str.replace(\" \", \"\")\n",
    "final_df_pc_clean = final_df_pc[1]\n",
    "final_df_pc_clean.head()"
   ]
  },
  {
   "cell_type": "code",
   "execution_count": 10,
   "metadata": {},
   "outputs": [
    {
     "data": {
      "text/html": [
       "<div>\n",
       "<style scoped>\n",
       "    .dataframe tbody tr th:only-of-type {\n",
       "        vertical-align: middle;\n",
       "    }\n",
       "\n",
       "    .dataframe tbody tr th {\n",
       "        vertical-align: top;\n",
       "    }\n",
       "\n",
       "    .dataframe thead th {\n",
       "        text-align: right;\n",
       "    }\n",
       "</style>\n",
       "<table border=\"1\" class=\"dataframe\">\n",
       "  <thead>\n",
       "    <tr style=\"text-align: right;\">\n",
       "      <th></th>\n",
       "      <th>price</th>\n",
       "      <th>postal_code</th>\n",
       "      <th>address</th>\n",
       "      <th>mls</th>\n",
       "    </tr>\n",
       "  </thead>\n",
       "  <tbody>\n",
       "    <tr>\n",
       "      <th>0</th>\n",
       "      <td>649900</td>\n",
       "      <td>T3G 6G6</td>\n",
       "      <td>14 Norford Common NW</td>\n",
       "      <td>A1046940</td>\n",
       "    </tr>\n",
       "    <tr>\n",
       "      <th>1</th>\n",
       "      <td>648000</td>\n",
       "      <td>T3L 2V2</td>\n",
       "      <td>5 TUSCANY SPRINGS TERR NW</td>\n",
       "      <td>A1047091</td>\n",
       "    </tr>\n",
       "    <tr>\n",
       "      <th>2</th>\n",
       "      <td>359500</td>\n",
       "      <td>T3K 5R3</td>\n",
       "      <td>240 COVEPARK CLOSE NE</td>\n",
       "      <td>A1046748</td>\n",
       "    </tr>\n",
       "    <tr>\n",
       "      <th>3</th>\n",
       "      <td>1250000</td>\n",
       "      <td>T3G 4N8</td>\n",
       "      <td>255 ARBOUR VISTA RD NW</td>\n",
       "      <td>A1047017</td>\n",
       "    </tr>\n",
       "    <tr>\n",
       "      <th>4</th>\n",
       "      <td>334900</td>\n",
       "      <td>T3H 6B5</td>\n",
       "      <td>716 - 8505 BROADCAST AVE SW</td>\n",
       "      <td>A1047046</td>\n",
       "    </tr>\n",
       "  </tbody>\n",
       "</table>\n",
       "</div>"
      ],
      "text/plain": [
       "     price postal_code                      address       mls\n",
       "0   649900     T3G 6G6         14 Norford Common NW  A1046940\n",
       "1   648000     T3L 2V2    5 TUSCANY SPRINGS TERR NW  A1047091\n",
       "2   359500     T3K 5R3        240 COVEPARK CLOSE NE  A1046748\n",
       "3  1250000     T3G 4N8       255 ARBOUR VISTA RD NW  A1047017\n",
       "4   334900     T3H 6B5  716 - 8505 BROADCAST AVE SW  A1047046"
      ]
     },
     "execution_count": 10,
     "metadata": {},
     "output_type": "execute_result"
    }
   ],
   "source": [
    "df_add = pd.concat([new_df, final_df_pc_clean, final_df_pc[0], mls_array_df[1]], axis=1)\n",
    "del df_add[2]\n",
    "df_add.columns = [\"price\", \"postal_code\", \"address\", \"mls\"]\n",
    "df_add.head()"
   ]
  },
  {
   "cell_type": "code",
   "execution_count": 11,
   "metadata": {},
   "outputs": [
    {
     "data": {
      "text/html": [
       "<div>\n",
       "<style scoped>\n",
       "    .dataframe tbody tr th:only-of-type {\n",
       "        vertical-align: middle;\n",
       "    }\n",
       "\n",
       "    .dataframe tbody tr th {\n",
       "        vertical-align: top;\n",
       "    }\n",
       "\n",
       "    .dataframe thead th {\n",
       "        text-align: right;\n",
       "    }\n",
       "</style>\n",
       "<table border=\"1\" class=\"dataframe\">\n",
       "  <thead>\n",
       "    <tr style=\"text-align: right;\">\n",
       "      <th></th>\n",
       "      <th>0</th>\n",
       "      <th>1</th>\n",
       "      <th>2</th>\n",
       "      <th>3</th>\n",
       "    </tr>\n",
       "  </thead>\n",
       "  <tbody>\n",
       "    <tr>\n",
       "      <th>0</th>\n",
       "      <td>2 bed</td>\n",
       "      <td>2 + 1 bath</td>\n",
       "      <td>1560 sqft</td>\n",
       "      <td>townhouse</td>\n",
       "    </tr>\n",
       "    <tr>\n",
       "      <th>1</th>\n",
       "      <td>3 bed</td>\n",
       "      <td>2 + 1 bath</td>\n",
       "      <td>1795 sqft</td>\n",
       "      <td>house</td>\n",
       "    </tr>\n",
       "    <tr>\n",
       "      <th>2</th>\n",
       "      <td>2 bed</td>\n",
       "      <td>2 bath</td>\n",
       "      <td>981 sqft</td>\n",
       "      <td>house</td>\n",
       "    </tr>\n",
       "    <tr>\n",
       "      <th>3</th>\n",
       "      <td>3 bed</td>\n",
       "      <td>2 + 1 bath</td>\n",
       "      <td>1913 sqft</td>\n",
       "      <td>house</td>\n",
       "    </tr>\n",
       "    <tr>\n",
       "      <th>4</th>\n",
       "      <td>1 bed</td>\n",
       "      <td>1 bath</td>\n",
       "      <td>483 sqft</td>\n",
       "      <td>condo</td>\n",
       "    </tr>\n",
       "  </tbody>\n",
       "</table>\n",
       "</div>"
      ],
      "text/plain": [
       "       0           1          2          3\n",
       "0  2 bed  2 + 1 bath  1560 sqft  townhouse\n",
       "1  3 bed  2 + 1 bath  1795 sqft      house\n",
       "2  2 bed      2 bath   981 sqft      house\n",
       "3  3 bed  2 + 1 bath  1913 sqft      house\n",
       "4  1 bed      1 bath   483 sqft      condo"
      ]
     },
     "execution_count": 11,
     "metadata": {},
     "output_type": "execute_result"
    }
   ],
   "source": [
    "details = pd.DataFrame(house_details_all)\n",
    "details_df_temp = details[0].str.split('|', expand=True)\n",
    "details_df_temp.head()"
   ]
  },
  {
   "cell_type": "code",
   "execution_count": 12,
   "metadata": {},
   "outputs": [],
   "source": [
    "details_df_bed = details_df_temp[0].str.replace(' bed', '')\n",
    "details_df_bath = details_df_temp[1].str.replace(' bath', '')\n",
    "details_df_area = details_df_temp[2].str.replace(' sqft', '')"
   ]
  },
  {
   "cell_type": "code",
   "execution_count": 13,
   "metadata": {},
   "outputs": [],
   "source": [
    "details_df_bath_all = details_df_bath.str.split('+', expand=True)\n",
    "details_df_bath_full = details_df_bath_all[0]\n",
    "details_df_bath_half = details_df_bath_all[1]"
   ]
  },
  {
   "cell_type": "code",
   "execution_count": 14,
   "metadata": {},
   "outputs": [],
   "source": [
    "details_df_bed = details_df_bed.replace('N/A', np.nan)\n",
    "details_df_bed = pd.to_numeric(details_df_bed)\n",
    "details_df_area = details_df_area.replace('N/A', np.nan)\n",
    "details_df_area = pd.to_numeric(details_df_area)\n",
    "details_df_bath_full = details_df_bath_full.replace('N/A', np.nan)\n",
    "details_df_bath_full = pd.to_numeric(details_df_bath_full)\n",
    "details_df_bath_half = details_df_bath_half.replace('N/A', int(0))\n",
    "details_df_bath_half = pd.to_numeric(details_df_bath_half)"
   ]
  },
  {
   "cell_type": "code",
   "execution_count": 15,
   "metadata": {},
   "outputs": [],
   "source": [
    "data = {'bed':details_df_bed, 'full_bath':details_df_bath_full, 'half_bath':details_df_bath_half,\n",
    "       'property_area':details_df_area, 'property_type':details_df_temp[3]}"
   ]
  },
  {
   "cell_type": "code",
   "execution_count": 16,
   "metadata": {},
   "outputs": [
    {
     "data": {
      "text/html": [
       "<div>\n",
       "<style scoped>\n",
       "    .dataframe tbody tr th:only-of-type {\n",
       "        vertical-align: middle;\n",
       "    }\n",
       "\n",
       "    .dataframe tbody tr th {\n",
       "        vertical-align: top;\n",
       "    }\n",
       "\n",
       "    .dataframe thead th {\n",
       "        text-align: right;\n",
       "    }\n",
       "</style>\n",
       "<table border=\"1\" class=\"dataframe\">\n",
       "  <thead>\n",
       "    <tr style=\"text-align: right;\">\n",
       "      <th></th>\n",
       "      <th>bed</th>\n",
       "      <th>full_bath</th>\n",
       "      <th>half_bath</th>\n",
       "      <th>property_area</th>\n",
       "      <th>property_type</th>\n",
       "    </tr>\n",
       "  </thead>\n",
       "  <tbody>\n",
       "    <tr>\n",
       "      <th>0</th>\n",
       "      <td>2.0</td>\n",
       "      <td>2.0</td>\n",
       "      <td>1.0</td>\n",
       "      <td>1560.0</td>\n",
       "      <td>townhouse</td>\n",
       "    </tr>\n",
       "    <tr>\n",
       "      <th>1</th>\n",
       "      <td>3.0</td>\n",
       "      <td>2.0</td>\n",
       "      <td>1.0</td>\n",
       "      <td>1795.0</td>\n",
       "      <td>house</td>\n",
       "    </tr>\n",
       "    <tr>\n",
       "      <th>2</th>\n",
       "      <td>2.0</td>\n",
       "      <td>2.0</td>\n",
       "      <td>NaN</td>\n",
       "      <td>981.0</td>\n",
       "      <td>house</td>\n",
       "    </tr>\n",
       "    <tr>\n",
       "      <th>3</th>\n",
       "      <td>3.0</td>\n",
       "      <td>2.0</td>\n",
       "      <td>1.0</td>\n",
       "      <td>1913.0</td>\n",
       "      <td>house</td>\n",
       "    </tr>\n",
       "    <tr>\n",
       "      <th>4</th>\n",
       "      <td>1.0</td>\n",
       "      <td>1.0</td>\n",
       "      <td>NaN</td>\n",
       "      <td>483.0</td>\n",
       "      <td>condo</td>\n",
       "    </tr>\n",
       "  </tbody>\n",
       "</table>\n",
       "</div>"
      ],
      "text/plain": [
       "   bed  full_bath  half_bath  property_area property_type\n",
       "0  2.0        2.0        1.0         1560.0     townhouse\n",
       "1  3.0        2.0        1.0         1795.0         house\n",
       "2  2.0        2.0        NaN          981.0         house\n",
       "3  3.0        2.0        1.0         1913.0         house\n",
       "4  1.0        1.0        NaN          483.0         condo"
      ]
     },
     "execution_count": 16,
     "metadata": {},
     "output_type": "execute_result"
    }
   ],
   "source": [
    "details_df = pd.DataFrame(data)\n",
    "details_df.head()"
   ]
  },
  {
   "cell_type": "code",
   "execution_count": 17,
   "metadata": {},
   "outputs": [
    {
     "data": {
      "text/html": [
       "<div>\n",
       "<style scoped>\n",
       "    .dataframe tbody tr th:only-of-type {\n",
       "        vertical-align: middle;\n",
       "    }\n",
       "\n",
       "    .dataframe tbody tr th {\n",
       "        vertical-align: top;\n",
       "    }\n",
       "\n",
       "    .dataframe thead th {\n",
       "        text-align: right;\n",
       "    }\n",
       "</style>\n",
       "<table border=\"1\" class=\"dataframe\">\n",
       "  <thead>\n",
       "    <tr style=\"text-align: right;\">\n",
       "      <th></th>\n",
       "      <th>price</th>\n",
       "      <th>postal_code</th>\n",
       "      <th>address</th>\n",
       "      <th>mls</th>\n",
       "      <th>bed</th>\n",
       "      <th>full_bath</th>\n",
       "      <th>half_bath</th>\n",
       "      <th>property_area</th>\n",
       "      <th>property_type</th>\n",
       "    </tr>\n",
       "  </thead>\n",
       "  <tbody>\n",
       "    <tr>\n",
       "      <th>0</th>\n",
       "      <td>649900</td>\n",
       "      <td>T3G 6G6</td>\n",
       "      <td>14 Norford Common NW</td>\n",
       "      <td>A1046940</td>\n",
       "      <td>2.0</td>\n",
       "      <td>2.0</td>\n",
       "      <td>1.0</td>\n",
       "      <td>1560.0</td>\n",
       "      <td>townhouse</td>\n",
       "    </tr>\n",
       "    <tr>\n",
       "      <th>1</th>\n",
       "      <td>648000</td>\n",
       "      <td>T3L 2V2</td>\n",
       "      <td>5 TUSCANY SPRINGS TERR NW</td>\n",
       "      <td>A1047091</td>\n",
       "      <td>3.0</td>\n",
       "      <td>2.0</td>\n",
       "      <td>1.0</td>\n",
       "      <td>1795.0</td>\n",
       "      <td>house</td>\n",
       "    </tr>\n",
       "    <tr>\n",
       "      <th>2</th>\n",
       "      <td>359500</td>\n",
       "      <td>T3K 5R3</td>\n",
       "      <td>240 COVEPARK CLOSE NE</td>\n",
       "      <td>A1046748</td>\n",
       "      <td>2.0</td>\n",
       "      <td>2.0</td>\n",
       "      <td>NaN</td>\n",
       "      <td>981.0</td>\n",
       "      <td>house</td>\n",
       "    </tr>\n",
       "    <tr>\n",
       "      <th>3</th>\n",
       "      <td>1250000</td>\n",
       "      <td>T3G 4N8</td>\n",
       "      <td>255 ARBOUR VISTA RD NW</td>\n",
       "      <td>A1047017</td>\n",
       "      <td>3.0</td>\n",
       "      <td>2.0</td>\n",
       "      <td>1.0</td>\n",
       "      <td>1913.0</td>\n",
       "      <td>house</td>\n",
       "    </tr>\n",
       "    <tr>\n",
       "      <th>4</th>\n",
       "      <td>334900</td>\n",
       "      <td>T3H 6B5</td>\n",
       "      <td>716 - 8505 BROADCAST AVE SW</td>\n",
       "      <td>A1047046</td>\n",
       "      <td>1.0</td>\n",
       "      <td>1.0</td>\n",
       "      <td>NaN</td>\n",
       "      <td>483.0</td>\n",
       "      <td>condo</td>\n",
       "    </tr>\n",
       "  </tbody>\n",
       "</table>\n",
       "</div>"
      ],
      "text/plain": [
       "     price postal_code                      address       mls  bed  full_bath  \\\n",
       "0   649900     T3G 6G6         14 Norford Common NW  A1046940  2.0        2.0   \n",
       "1   648000     T3L 2V2    5 TUSCANY SPRINGS TERR NW  A1047091  3.0        2.0   \n",
       "2   359500     T3K 5R3        240 COVEPARK CLOSE NE  A1046748  2.0        2.0   \n",
       "3  1250000     T3G 4N8       255 ARBOUR VISTA RD NW  A1047017  3.0        2.0   \n",
       "4   334900     T3H 6B5  716 - 8505 BROADCAST AVE SW  A1047046  1.0        1.0   \n",
       "\n",
       "   half_bath  property_area property_type  \n",
       "0        1.0         1560.0     townhouse  \n",
       "1        1.0         1795.0         house  \n",
       "2        NaN          981.0         house  \n",
       "3        1.0         1913.0         house  \n",
       "4        NaN          483.0         condo  "
      ]
     },
     "execution_count": 17,
     "metadata": {},
     "output_type": "execute_result"
    }
   ],
   "source": [
    "calgary_df_dup = pd.concat([df_add, details_df], axis=1)\n",
    "calgary_df = calgary_df_dup.drop_duplicates()\n",
    "calgary_df.head()"
   ]
  },
  {
   "cell_type": "code",
   "execution_count": 18,
   "metadata": {},
   "outputs": [
    {
     "data": {
      "text/plain": [
       "2178"
      ]
     },
     "execution_count": 18,
     "metadata": {},
     "output_type": "execute_result"
    }
   ],
   "source": [
    "len(calgary_df)"
   ]
  },
  {
   "cell_type": "code",
   "execution_count": 19,
   "metadata": {},
   "outputs": [],
   "source": [
    "calgary_df.to_csv('data/calgary_listings-a.csv', index=False)"
   ]
  },
  {
   "cell_type": "markdown",
   "metadata": {},
   "source": [
    "## Cleanup Postal Codes, Latitude, Longitude and Year Built"
   ]
  },
  {
   "cell_type": "markdown",
   "metadata": {},
   "source": [
    "postal_codes_messy = pd.DataFrame(postal_code_array, columns=[\"postal_code\"])"
   ]
  },
  {
   "cell_type": "markdown",
   "metadata": {},
   "source": [
    "postal_codes_messy.head()"
   ]
  },
  {
   "cell_type": "markdown",
   "metadata": {},
   "source": [
    "postal_code_array_clean = postal_codes_messy[\"postal_code\"].str.replace('\"', '')\n",
    "postal_code_array_clean = postal_code_array_clean.str.replace(\" \", \"\")"
   ]
  },
  {
   "cell_type": "code",
   "execution_count": 20,
   "metadata": {},
   "outputs": [],
   "source": [
    "latitude_array_messy = pd.DataFrame(latitude_array, columns=[\"latitude\"])"
   ]
  },
  {
   "cell_type": "code",
   "execution_count": 21,
   "metadata": {},
   "outputs": [],
   "source": [
    "#latitude_array_messy"
   ]
  },
  {
   "cell_type": "code",
   "execution_count": 22,
   "metadata": {},
   "outputs": [
    {
     "data": {
      "text/plain": [
       "0    51.080529\n",
       "1    51.132727\n",
       "2    51.164469\n",
       "3    51.136122\n",
       "4     51.06472\n",
       "Name: latitude, dtype: object"
      ]
     },
     "execution_count": 22,
     "metadata": {},
     "output_type": "execute_result"
    }
   ],
   "source": [
    "latitude_array_messy = latitude_array_messy[\"latitude\"].str.replace(',', '')\n",
    "latitude_array_messy.head()"
   ]
  },
  {
   "cell_type": "code",
   "execution_count": 23,
   "metadata": {},
   "outputs": [],
   "source": [
    "longitude_array_messy = pd.DataFrame(longitude_array, columns=[\"longitude\"])"
   ]
  },
  {
   "cell_type": "code",
   "execution_count": 24,
   "metadata": {},
   "outputs": [
    {
     "data": {
      "text/plain": [
       "0     -114.145\n",
       "1     -114.247\n",
       "2     -114.057\n",
       "3     -114.196\n",
       "4     -114.209\n",
       "Name: longitude, dtype: object"
      ]
     },
     "execution_count": 24,
     "metadata": {},
     "output_type": "execute_result"
    }
   ],
   "source": [
    "longitude_array_messy = longitude_array_messy[\"longitude\"].str.replace(',', '')\n",
    "longitude_array_messy.head()"
   ]
  },
  {
   "cell_type": "markdown",
   "metadata": {},
   "source": [
    "<div class=\"alert alert-danger\">\n",
    "    <b>Unused</b>\n",
    "    \n",
    "year_built_messy = pd.DataFrame(year_built_array, columns=[\"year_built\"])<br>\n",
    "year_built_clean = year_built_messy[\"year_built\"].str.replace('', np.nan)<br>\n",
    "year_built_num = year_built_messy.astype(int)\n",
    "\n",
    "year_built_num.head()\n",
    "</div>"
   ]
  },
  {
   "cell_type": "code",
   "execution_count": 25,
   "metadata": {},
   "outputs": [
    {
     "data": {
      "text/html": [
       "<div>\n",
       "<style scoped>\n",
       "    .dataframe tbody tr th:only-of-type {\n",
       "        vertical-align: middle;\n",
       "    }\n",
       "\n",
       "    .dataframe tbody tr th {\n",
       "        vertical-align: top;\n",
       "    }\n",
       "\n",
       "    .dataframe thead th {\n",
       "        text-align: right;\n",
       "    }\n",
       "</style>\n",
       "<table border=\"1\" class=\"dataframe\">\n",
       "  <thead>\n",
       "    <tr style=\"text-align: right;\">\n",
       "      <th></th>\n",
       "      <th>year_built</th>\n",
       "    </tr>\n",
       "  </thead>\n",
       "  <tbody>\n",
       "    <tr>\n",
       "      <th>0</th>\n",
       "      <td>2018</td>\n",
       "    </tr>\n",
       "    <tr>\n",
       "      <th>1</th>\n",
       "      <td>2005</td>\n",
       "    </tr>\n",
       "    <tr>\n",
       "      <th>2</th>\n",
       "      <td>2002</td>\n",
       "    </tr>\n",
       "    <tr>\n",
       "      <th>3</th>\n",
       "      <td>1999</td>\n",
       "    </tr>\n",
       "    <tr>\n",
       "      <th>4</th>\n",
       "      <td>2020</td>\n",
       "    </tr>\n",
       "  </tbody>\n",
       "</table>\n",
       "</div>"
      ],
      "text/plain": [
       "  year_built\n",
       "0       2018\n",
       "1       2005\n",
       "2       2002\n",
       "3       1999\n",
       "4       2020"
      ]
     },
     "execution_count": 25,
     "metadata": {},
     "output_type": "execute_result"
    }
   ],
   "source": [
    "year_built_messy = pd.DataFrame(year_built_array, columns=[\"year_built\"])\n",
    "#year_built_messy = pd.to_numeric(year_built_messy)\n",
    "year_built_messy.head()"
   ]
  },
  {
   "cell_type": "code",
   "execution_count": 26,
   "metadata": {},
   "outputs": [],
   "source": [
    "year_built_clean = year_built_messy[\"year_built\"].replace('', np.nan)"
   ]
  },
  {
   "cell_type": "code",
   "execution_count": 27,
   "metadata": {},
   "outputs": [
    {
     "data": {
      "text/plain": [
       "0     2018\n",
       "1     2005\n",
       "2     2002\n",
       "3     1999\n",
       "4     2020\n",
       "5     2016\n",
       "6     2002\n",
       "7     1958\n",
       "8     2010\n",
       "9     1958\n",
       "10    2011\n",
       "Name: year_built, dtype: object"
      ]
     },
     "execution_count": 27,
     "metadata": {},
     "output_type": "execute_result"
    }
   ],
   "source": [
    "year_built_clean.head(11)"
   ]
  },
  {
   "cell_type": "code",
   "execution_count": 28,
   "metadata": {},
   "outputs": [],
   "source": [
    "year_built_digits = []\n",
    "\n",
    "for i in year_built_clean:\n",
    "    if ((str(i) >= 'A' and str(i) <= 'Z') or (str(i) >= 'a' and str(i) <= 'z')):\n",
    "        #year_built_clean.replace(i, np.nan)\n",
    "        year_built_digits.append(np.nan)\n",
    "    if ((str(i) == ' 9 2') or (str(i) == ' 8 2') or (str(i) == ' 2 2') or (str(i) == 'nasq') or (str(i) == ' 6 R') or (str(i) == ' 6 S')):\n",
    "        year_built_digits.append(np.nan)\n",
    "    else:\n",
    "        year_built_digits.append(i)"
   ]
  },
  {
   "cell_type": "code",
   "execution_count": 29,
   "metadata": {},
   "outputs": [
    {
     "data": {
      "text/plain": [
       "['2018',\n",
       " '2005',\n",
       " '2002',\n",
       " '1999',\n",
       " '2020',\n",
       " '2016',\n",
       " '2002',\n",
       " '1958',\n",
       " '2010',\n",
       " '1958',\n",
       " '2011']"
      ]
     },
     "execution_count": 29,
     "metadata": {},
     "output_type": "execute_result"
    }
   ],
   "source": [
    "year_built_digits[:11]"
   ]
  },
  {
   "cell_type": "code",
   "execution_count": 30,
   "metadata": {},
   "outputs": [
    {
     "data": {
      "text/plain": [
       "array([2018., 2005., 2002., 1999., 2020., 2016., 2002., 1958., 2010.,\n",
       "       1958.])"
      ]
     },
     "execution_count": 30,
     "metadata": {},
     "output_type": "execute_result"
    }
   ],
   "source": [
    "year_built_num = pd.to_numeric(year_built_digits)\n",
    "year_built_num[:10]"
   ]
  },
  {
   "cell_type": "code",
   "execution_count": 31,
   "metadata": {},
   "outputs": [],
   "source": [
    "year_built_num_pd = pd.DataFrame(year_built_num)"
   ]
  },
  {
   "cell_type": "code",
   "execution_count": 32,
   "metadata": {},
   "outputs": [
    {
     "data": {
      "text/plain": [
       "array([ 2., 15., 18., 21.,  0.,  4., 18., 62., 10., 62.])"
      ]
     },
     "execution_count": 32,
     "metadata": {},
     "output_type": "execute_result"
    }
   ],
   "source": [
    "years_old = 2020 - year_built_num\n",
    "years_old[:10]"
   ]
  },
  {
   "cell_type": "code",
   "execution_count": 33,
   "metadata": {},
   "outputs": [],
   "source": [
    "years_old_df = pd.DataFrame(years_old)"
   ]
  },
  {
   "cell_type": "code",
   "execution_count": 34,
   "metadata": {},
   "outputs": [],
   "source": [
    "latitude_digits = []\n",
    "\n",
    "for i in latitude_array_messy:\n",
    "    if ((str(i) >= 'A' and str(i) <= 'Z') or (str(i) >= 'a' and str(i) <= 'z')):\n",
    "        latitude_digits.append(np.nan)\n",
    "    else:\n",
    "        latitude_digits.append(i)"
   ]
  },
  {
   "cell_type": "code",
   "execution_count": 35,
   "metadata": {},
   "outputs": [],
   "source": [
    "longitude_digits = []\n",
    "\n",
    "for i in longitude_array_messy:\n",
    "    if ((str(i) >= 'A' and str(i) <= 'Z') or (str(i) >= 'a' and str(i) <= 'z')):\n",
    "        longitude_digits.append(np.nan)\n",
    "    else:\n",
    "        longitude_digits.append(i)"
   ]
  },
  {
   "cell_type": "code",
   "execution_count": 36,
   "metadata": {},
   "outputs": [],
   "source": [
    "latitude_digits = pd.to_numeric(latitude_digits)\n",
    "longitude_digits = pd.to_numeric(longitude_digits)"
   ]
  },
  {
   "cell_type": "code",
   "execution_count": 37,
   "metadata": {},
   "outputs": [
    {
     "data": {
      "text/html": [
       "<div>\n",
       "<style scoped>\n",
       "    .dataframe tbody tr th:only-of-type {\n",
       "        vertical-align: middle;\n",
       "    }\n",
       "\n",
       "    .dataframe tbody tr th {\n",
       "        vertical-align: top;\n",
       "    }\n",
       "\n",
       "    .dataframe thead th {\n",
       "        text-align: right;\n",
       "    }\n",
       "</style>\n",
       "<table border=\"1\" class=\"dataframe\">\n",
       "  <thead>\n",
       "    <tr style=\"text-align: right;\">\n",
       "      <th></th>\n",
       "      <th>monthly_payments</th>\n",
       "    </tr>\n",
       "  </thead>\n",
       "  <tbody>\n",
       "    <tr>\n",
       "      <th>0</th>\n",
       "      <td>$2810.25</td>\n",
       "    </tr>\n",
       "    <tr>\n",
       "      <th>1</th>\n",
       "      <td>$2802.03</td>\n",
       "    </tr>\n",
       "    <tr>\n",
       "      <th>2</th>\n",
       "      <td>$1554.52</td>\n",
       "    </tr>\n",
       "    <tr>\n",
       "      <th>3</th>\n",
       "      <td>$5405.15</td>\n",
       "    </tr>\n",
       "    <tr>\n",
       "      <th>4</th>\n",
       "      <td>$1448.15</td>\n",
       "    </tr>\n",
       "  </tbody>\n",
       "</table>\n",
       "</div>"
      ],
      "text/plain": [
       "  monthly_payments\n",
       "0         $2810.25\n",
       "1         $2802.03\n",
       "2         $1554.52\n",
       "3         $5405.15\n",
       "4         $1448.15"
      ]
     },
     "execution_count": 37,
     "metadata": {},
     "output_type": "execute_result"
    }
   ],
   "source": [
    "payment_monthly_messy = pd.DataFrame(payment_monthly, columns=[\"monthly_payments\"])\n",
    "payment_monthly_messy.head()"
   ]
  },
  {
   "cell_type": "code",
   "execution_count": 38,
   "metadata": {
    "scrolled": true
   },
   "outputs": [
    {
     "data": {
      "text/plain": [
       "0    2810.25\n",
       "1    2802.03\n",
       "2    1554.52\n",
       "3    5405.15\n",
       "4    1448.15\n",
       "5    1729.65\n",
       "6    1513.44\n",
       "7    2200.98\n",
       "8    2810.25\n",
       "9    2810.25\n",
       "Name: monthly_payments, dtype: object"
      ]
     },
     "execution_count": 38,
     "metadata": {},
     "output_type": "execute_result"
    }
   ],
   "source": [
    "payment_monthly_messy = payment_monthly_messy[\"monthly_payments\"].str.replace('$', '')\n",
    "payment_monthly_messy.head(10)"
   ]
  },
  {
   "cell_type": "code",
   "execution_count": 39,
   "metadata": {},
   "outputs": [],
   "source": [
    "payment_monthly_messy = payment_monthly_messy.replace('', np.nan)"
   ]
  },
  {
   "cell_type": "code",
   "execution_count": 40,
   "metadata": {},
   "outputs": [],
   "source": [
    "payment_monthly_clean = payment_monthly_messy.replace('None', np.nan)\n",
    "payment_monthly_clean = pd.to_numeric(payment_monthly_clean)"
   ]
  },
  {
   "cell_type": "markdown",
   "metadata": {},
   "source": [
    "<div class=\"alert alert-success\">\n",
    "    <b>Guide</b>\n",
    "    \n",
    "https://stackoverflow.com/questions/19412462/getting-distance-between-two-points-based-on-latitude-longitude\n",
    "\n",
    "#### approximate radius of earth in km\n",
    "R = 6373.0\n",
    "    \n",
    "lat1 = radians(52.2296756)<br>\n",
    "lon1 = radians(21.0122287)\n",
    "\n",
    "lat2 = radians(52.406374)<br>\n",
    "lon2 = radians(16.9251681)\n",
    "\n",
    "dlon = lon2 - lon1<br>\n",
    "dlat = lat2 - lat1\n",
    "\n",
    "a = sin(dlat / 2)**2 + cos(lat1) * cos(lat2) * sin(dlon / 2)**2<br>\n",
    "c = 2 * atan2(sqrt(a), sqrt(1 - a))\n",
    "\n",
    "distance = R * c\n",
    "\n",
    "print(\"Result:\", distance)\n",
    "    \n",
    "#### Calgary Downtown coordinates (51.0449485,-114.0739559)\n",
    "</div>"
   ]
  },
  {
   "cell_type": "code",
   "execution_count": 41,
   "metadata": {},
   "outputs": [],
   "source": [
    "distance_downtown = []\n",
    "\n",
    "for i, j in zip(latitude_digits, longitude_digits):\n",
    "    lat1 = radians(i)\n",
    "    lon1 = radians(j)\n",
    "    lat2 = radians(51.0449485)\n",
    "    lon2 = radians(-114.0739559)\n",
    "    \n",
    "    dlon = lon2 - lon1\n",
    "    dlat = lat2 - lat1\n",
    "\n",
    "    a = sin(dlat / 2)**2 + cos(lat1) * cos(lat2) * sin(dlon / 2)**2\n",
    "    c = 2 * atan2(sqrt(a), sqrt(1 - a))\n",
    "    R = 6373.0\n",
    "    distance = (R * c)\n",
    "    \n",
    "    distance_downtown.append(round(distance, 2))"
   ]
  },
  {
   "cell_type": "code",
   "execution_count": 42,
   "metadata": {},
   "outputs": [
    {
     "data": {
      "text/plain": [
       "[6.35, 15.54, 13.35, 13.25, 9.69]"
      ]
     },
     "execution_count": 42,
     "metadata": {},
     "output_type": "execute_result"
    }
   ],
   "source": [
    "distance_downtown[:5]"
   ]
  },
  {
   "cell_type": "code",
   "execution_count": 43,
   "metadata": {},
   "outputs": [],
   "source": [
    "distance_downtown_df = pd.DataFrame(distance_downtown)"
   ]
  },
  {
   "cell_type": "markdown",
   "metadata": {},
   "source": [
    "<div class=\"alert alert-warning\">\n",
    "    <b>Another example</b>\n",
    "    \n",
    "import geopy.distance\n",
    "\n",
    "coords_1 = (52.2296756, 21.0122287)<br>\n",
    "coords_2 = (52.406374, 16.9251681)\n",
    "\n",
    "print(geopy.distance.vincenty(coords_1, coords_2).km)\n",
    "</div>"
   ]
  },
  {
   "cell_type": "code",
   "execution_count": 44,
   "metadata": {},
   "outputs": [
    {
     "data": {
      "text/html": [
       "<div>\n",
       "<style scoped>\n",
       "    .dataframe tbody tr th:only-of-type {\n",
       "        vertical-align: middle;\n",
       "    }\n",
       "\n",
       "    .dataframe tbody tr th {\n",
       "        vertical-align: top;\n",
       "    }\n",
       "\n",
       "    .dataframe thead th {\n",
       "        text-align: right;\n",
       "    }\n",
       "</style>\n",
       "<table border=\"1\" class=\"dataframe\">\n",
       "  <thead>\n",
       "    <tr style=\"text-align: right;\">\n",
       "      <th></th>\n",
       "      <th>0</th>\n",
       "      <th>1</th>\n",
       "      <th>2</th>\n",
       "    </tr>\n",
       "  </thead>\n",
       "  <tbody>\n",
       "    <tr>\n",
       "      <th>0</th>\n",
       "      <td>51.080529</td>\n",
       "      <td>-114.145</td>\n",
       "      <td>2018.0</td>\n",
       "    </tr>\n",
       "    <tr>\n",
       "      <th>1</th>\n",
       "      <td>51.132727</td>\n",
       "      <td>-114.247</td>\n",
       "      <td>2005.0</td>\n",
       "    </tr>\n",
       "    <tr>\n",
       "      <th>2</th>\n",
       "      <td>51.164469</td>\n",
       "      <td>-114.057</td>\n",
       "      <td>2002.0</td>\n",
       "    </tr>\n",
       "    <tr>\n",
       "      <th>3</th>\n",
       "      <td>51.136122</td>\n",
       "      <td>-114.196</td>\n",
       "      <td>1999.0</td>\n",
       "    </tr>\n",
       "    <tr>\n",
       "      <th>4</th>\n",
       "      <td>51.064720</td>\n",
       "      <td>-114.209</td>\n",
       "      <td>2020.0</td>\n",
       "    </tr>\n",
       "  </tbody>\n",
       "</table>\n",
       "</div>"
      ],
      "text/plain": [
       "           0        1       2\n",
       "0  51.080529 -114.145  2018.0\n",
       "1  51.132727 -114.247  2005.0\n",
       "2  51.164469 -114.057  2002.0\n",
       "3  51.136122 -114.196  1999.0\n",
       "4  51.064720 -114.209  2020.0"
      ]
     },
     "execution_count": 44,
     "metadata": {},
     "output_type": "execute_result"
    }
   ],
   "source": [
    "more_details = pd.DataFrame([latitude_digits, longitude_digits, year_built_num]).T\n",
    "#more_details.columns = [\"postal_code\", \"latitude\", \"longitude\", \"year_built\"]\n",
    "more_details.head()"
   ]
  },
  {
   "cell_type": "code",
   "execution_count": 45,
   "metadata": {},
   "outputs": [],
   "source": [
    "lot_size_df = pd.DataFrame(lot_size)"
   ]
  },
  {
   "cell_type": "code",
   "execution_count": 46,
   "metadata": {},
   "outputs": [],
   "source": [
    "basement_df = pd.DataFrame(basement)"
   ]
  },
  {
   "cell_type": "code",
   "execution_count": 47,
   "metadata": {},
   "outputs": [],
   "source": [
    "garage_df = pd.DataFrame(garage)"
   ]
  },
  {
   "cell_type": "code",
   "execution_count": 48,
   "metadata": {},
   "outputs": [],
   "source": [
    "mls_df = pd.DataFrame(mlsa)"
   ]
  },
  {
   "cell_type": "code",
   "execution_count": 49,
   "metadata": {
    "scrolled": false
   },
   "outputs": [
    {
     "data": {
      "text/html": [
       "<div>\n",
       "<style scoped>\n",
       "    .dataframe tbody tr th:only-of-type {\n",
       "        vertical-align: middle;\n",
       "    }\n",
       "\n",
       "    .dataframe tbody tr th {\n",
       "        vertical-align: top;\n",
       "    }\n",
       "\n",
       "    .dataframe thead th {\n",
       "        text-align: right;\n",
       "    }\n",
       "</style>\n",
       "<table border=\"1\" class=\"dataframe\">\n",
       "  <thead>\n",
       "    <tr style=\"text-align: right;\">\n",
       "      <th></th>\n",
       "      <th>latitude</th>\n",
       "      <th>longitude</th>\n",
       "      <th>year_built</th>\n",
       "      <th>years_old</th>\n",
       "      <th>distance_downtown</th>\n",
       "      <th>monthly_payments</th>\n",
       "      <th>lot_size</th>\n",
       "      <th>basement</th>\n",
       "      <th>garage</th>\n",
       "      <th>mls</th>\n",
       "    </tr>\n",
       "  </thead>\n",
       "  <tbody>\n",
       "    <tr>\n",
       "      <th>0</th>\n",
       "      <td>51.080529</td>\n",
       "      <td>-114.145</td>\n",
       "      <td>2018.0</td>\n",
       "      <td>2.0</td>\n",
       "      <td>6.35</td>\n",
       "      <td>2810.25</td>\n",
       "      <td>na</td>\n",
       "      <td>0.0</td>\n",
       "      <td>1.0</td>\n",
       "      <td>A1046940</td>\n",
       "    </tr>\n",
       "    <tr>\n",
       "      <th>1</th>\n",
       "      <td>51.132727</td>\n",
       "      <td>-114.247</td>\n",
       "      <td>2005.0</td>\n",
       "      <td>15.0</td>\n",
       "      <td>15.54</td>\n",
       "      <td>2802.03</td>\n",
       "      <td>5145</td>\n",
       "      <td>1.0</td>\n",
       "      <td>1.0</td>\n",
       "      <td>A1047091</td>\n",
       "    </tr>\n",
       "    <tr>\n",
       "      <th>2</th>\n",
       "      <td>51.164469</td>\n",
       "      <td>-114.057</td>\n",
       "      <td>2002.0</td>\n",
       "      <td>18.0</td>\n",
       "      <td>13.35</td>\n",
       "      <td>1554.52</td>\n",
       "      <td>3918</td>\n",
       "      <td>1.0</td>\n",
       "      <td>1.0</td>\n",
       "      <td>A1046748</td>\n",
       "    </tr>\n",
       "    <tr>\n",
       "      <th>3</th>\n",
       "      <td>51.136122</td>\n",
       "      <td>-114.196</td>\n",
       "      <td>1999.0</td>\n",
       "      <td>21.0</td>\n",
       "      <td>13.25</td>\n",
       "      <td>5405.15</td>\n",
       "      <td>6501</td>\n",
       "      <td>1.0</td>\n",
       "      <td>1.0</td>\n",
       "      <td>A1047017</td>\n",
       "    </tr>\n",
       "    <tr>\n",
       "      <th>4</th>\n",
       "      <td>51.064720</td>\n",
       "      <td>-114.209</td>\n",
       "      <td>2020.0</td>\n",
       "      <td>0.0</td>\n",
       "      <td>9.69</td>\n",
       "      <td>1448.15</td>\n",
       "      <td>NaN</td>\n",
       "      <td>0.0</td>\n",
       "      <td>0.0</td>\n",
       "      <td>A1047046</td>\n",
       "    </tr>\n",
       "  </tbody>\n",
       "</table>\n",
       "</div>"
      ],
      "text/plain": [
       "    latitude  longitude  year_built  years_old  distance_downtown  \\\n",
       "0  51.080529   -114.145      2018.0        2.0               6.35   \n",
       "1  51.132727   -114.247      2005.0       15.0              15.54   \n",
       "2  51.164469   -114.057      2002.0       18.0              13.35   \n",
       "3  51.136122   -114.196      1999.0       21.0              13.25   \n",
       "4  51.064720   -114.209      2020.0        0.0               9.69   \n",
       "\n",
       "   monthly_payments lot_size  basement  garage       mls  \n",
       "0           2810.25       na       0.0     1.0  A1046940  \n",
       "1           2802.03     5145       1.0     1.0  A1047091  \n",
       "2           1554.52     3918       1.0     1.0  A1046748  \n",
       "3           5405.15     6501       1.0     1.0  A1047017  \n",
       "4           1448.15      NaN       0.0     0.0  A1047046  "
      ]
     },
     "execution_count": 49,
     "metadata": {},
     "output_type": "execute_result"
    }
   ],
   "source": [
    "more_df = pd.concat([more_details, years_old_df, distance_downtown_df, payment_monthly_clean, lot_size_df, basement_df, garage_df, mls_df], axis=1)\n",
    "more_df.columns = [\"latitude\", \"longitude\", \"year_built\", \"years_old\", \"distance_downtown\", \"monthly_payments\", \"lot_size\", \"basement\", \"garage\", \"mls\"]\n",
    "more_df.head()"
   ]
  },
  {
   "cell_type": "code",
   "execution_count": 50,
   "metadata": {},
   "outputs": [
    {
     "data": {
      "text/plain": [
       "7236"
      ]
     },
     "execution_count": 50,
     "metadata": {},
     "output_type": "execute_result"
    }
   ],
   "source": [
    "len(more_df)"
   ]
  },
  {
   "cell_type": "code",
   "execution_count": 51,
   "metadata": {},
   "outputs": [],
   "source": [
    "more_df.to_csv('data/calgary_listings-b.csv', index=False)"
   ]
  },
  {
   "cell_type": "code",
   "execution_count": 52,
   "metadata": {},
   "outputs": [
    {
     "data": {
      "text/html": [
       "<div>\n",
       "<style scoped>\n",
       "    .dataframe tbody tr th:only-of-type {\n",
       "        vertical-align: middle;\n",
       "    }\n",
       "\n",
       "    .dataframe tbody tr th {\n",
       "        vertical-align: top;\n",
       "    }\n",
       "\n",
       "    .dataframe thead th {\n",
       "        text-align: right;\n",
       "    }\n",
       "</style>\n",
       "<table border=\"1\" class=\"dataframe\">\n",
       "  <thead>\n",
       "    <tr style=\"text-align: right;\">\n",
       "      <th></th>\n",
       "      <th>price</th>\n",
       "      <th>postal_code</th>\n",
       "      <th>address</th>\n",
       "      <th>mls</th>\n",
       "      <th>bed</th>\n",
       "      <th>full_bath</th>\n",
       "      <th>half_bath</th>\n",
       "      <th>property_area</th>\n",
       "      <th>property_type</th>\n",
       "      <th>latitude</th>\n",
       "      <th>longitude</th>\n",
       "      <th>year_built</th>\n",
       "      <th>years_old</th>\n",
       "      <th>distance_downtown</th>\n",
       "      <th>monthly_payments</th>\n",
       "      <th>lot_size</th>\n",
       "      <th>basement</th>\n",
       "      <th>garage</th>\n",
       "    </tr>\n",
       "  </thead>\n",
       "  <tbody>\n",
       "    <tr>\n",
       "      <th>0</th>\n",
       "      <td>649900</td>\n",
       "      <td>T3G 6G6</td>\n",
       "      <td>14 Norford Common NW</td>\n",
       "      <td>A1046940</td>\n",
       "      <td>2.0</td>\n",
       "      <td>2.0</td>\n",
       "      <td>1.0</td>\n",
       "      <td>1560.0</td>\n",
       "      <td>townhouse</td>\n",
       "      <td>51.080529</td>\n",
       "      <td>-114.145</td>\n",
       "      <td>2018.0</td>\n",
       "      <td>2.0</td>\n",
       "      <td>6.35</td>\n",
       "      <td>2810.25</td>\n",
       "      <td>na</td>\n",
       "      <td>0.0</td>\n",
       "      <td>1.0</td>\n",
       "    </tr>\n",
       "    <tr>\n",
       "      <th>1</th>\n",
       "      <td>649900</td>\n",
       "      <td>T3G 6G6</td>\n",
       "      <td>14 Norford Common NW</td>\n",
       "      <td>A1046940</td>\n",
       "      <td>2.0</td>\n",
       "      <td>2.0</td>\n",
       "      <td>1.0</td>\n",
       "      <td>1560.0</td>\n",
       "      <td>townhouse</td>\n",
       "      <td>51.080529</td>\n",
       "      <td>-114.145</td>\n",
       "      <td>1963.0</td>\n",
       "      <td>57.0</td>\n",
       "      <td>6.35</td>\n",
       "      <td>2810.25</td>\n",
       "      <td>na</td>\n",
       "      <td>0.0</td>\n",
       "      <td>1.0</td>\n",
       "    </tr>\n",
       "    <tr>\n",
       "      <th>2</th>\n",
       "      <td>649900</td>\n",
       "      <td>T3G 6G6</td>\n",
       "      <td>14 Norford Common NW</td>\n",
       "      <td>A1046940</td>\n",
       "      <td>2.0</td>\n",
       "      <td>2.0</td>\n",
       "      <td>1.0</td>\n",
       "      <td>1560.0</td>\n",
       "      <td>townhouse</td>\n",
       "      <td>51.080529</td>\n",
       "      <td>-114.145</td>\n",
       "      <td>1968.0</td>\n",
       "      <td>52.0</td>\n",
       "      <td>6.35</td>\n",
       "      <td>2810.25</td>\n",
       "      <td>na</td>\n",
       "      <td>0.0</td>\n",
       "      <td>1.0</td>\n",
       "    </tr>\n",
       "    <tr>\n",
       "      <th>3</th>\n",
       "      <td>648000</td>\n",
       "      <td>T3L 2V2</td>\n",
       "      <td>5 TUSCANY SPRINGS TERR NW</td>\n",
       "      <td>A1047091</td>\n",
       "      <td>3.0</td>\n",
       "      <td>2.0</td>\n",
       "      <td>1.0</td>\n",
       "      <td>1795.0</td>\n",
       "      <td>house</td>\n",
       "      <td>51.132727</td>\n",
       "      <td>-114.247</td>\n",
       "      <td>2005.0</td>\n",
       "      <td>15.0</td>\n",
       "      <td>15.54</td>\n",
       "      <td>2802.03</td>\n",
       "      <td>5145</td>\n",
       "      <td>1.0</td>\n",
       "      <td>1.0</td>\n",
       "    </tr>\n",
       "    <tr>\n",
       "      <th>4</th>\n",
       "      <td>648000</td>\n",
       "      <td>T3L 2V2</td>\n",
       "      <td>5 TUSCANY SPRINGS TERR NW</td>\n",
       "      <td>A1047091</td>\n",
       "      <td>3.0</td>\n",
       "      <td>2.0</td>\n",
       "      <td>1.0</td>\n",
       "      <td>1795.0</td>\n",
       "      <td>house</td>\n",
       "      <td>51.132727</td>\n",
       "      <td>-114.247</td>\n",
       "      <td>2018.0</td>\n",
       "      <td>2.0</td>\n",
       "      <td>15.54</td>\n",
       "      <td>2802.03</td>\n",
       "      <td>5145</td>\n",
       "      <td>1.0</td>\n",
       "      <td>1.0</td>\n",
       "    </tr>\n",
       "  </tbody>\n",
       "</table>\n",
       "</div>"
      ],
      "text/plain": [
       "    price postal_code                    address       mls  bed  full_bath  \\\n",
       "0  649900     T3G 6G6       14 Norford Common NW  A1046940  2.0        2.0   \n",
       "1  649900     T3G 6G6       14 Norford Common NW  A1046940  2.0        2.0   \n",
       "2  649900     T3G 6G6       14 Norford Common NW  A1046940  2.0        2.0   \n",
       "3  648000     T3L 2V2  5 TUSCANY SPRINGS TERR NW  A1047091  3.0        2.0   \n",
       "4  648000     T3L 2V2  5 TUSCANY SPRINGS TERR NW  A1047091  3.0        2.0   \n",
       "\n",
       "   half_bath  property_area property_type   latitude  longitude  year_built  \\\n",
       "0        1.0         1560.0     townhouse  51.080529   -114.145      2018.0   \n",
       "1        1.0         1560.0     townhouse  51.080529   -114.145      1963.0   \n",
       "2        1.0         1560.0     townhouse  51.080529   -114.145      1968.0   \n",
       "3        1.0         1795.0         house  51.132727   -114.247      2005.0   \n",
       "4        1.0         1795.0         house  51.132727   -114.247      2018.0   \n",
       "\n",
       "   years_old  distance_downtown  monthly_payments lot_size  basement  garage  \n",
       "0        2.0               6.35           2810.25       na       0.0     1.0  \n",
       "1       57.0               6.35           2810.25       na       0.0     1.0  \n",
       "2       52.0               6.35           2810.25       na       0.0     1.0  \n",
       "3       15.0              15.54           2802.03     5145       1.0     1.0  \n",
       "4        2.0              15.54           2802.03     5145       1.0     1.0  "
      ]
     },
     "execution_count": 52,
     "metadata": {},
     "output_type": "execute_result"
    }
   ],
   "source": [
    "result_dup = pd.merge(calgary_df, more_df, on='mls')\n",
    "result = result_dup.drop_duplicates()\n",
    "result = result.reset_index(drop=True)\n",
    "result.head()"
   ]
  },
  {
   "cell_type": "code",
   "execution_count": 53,
   "metadata": {},
   "outputs": [
    {
     "data": {
      "text/plain": [
       "5223"
      ]
     },
     "execution_count": 53,
     "metadata": {},
     "output_type": "execute_result"
    }
   ],
   "source": [
    "len(result)"
   ]
  },
  {
   "cell_type": "code",
   "execution_count": 54,
   "metadata": {},
   "outputs": [
    {
     "data": {
      "text/html": [
       "<div>\n",
       "<style scoped>\n",
       "    .dataframe tbody tr th:only-of-type {\n",
       "        vertical-align: middle;\n",
       "    }\n",
       "\n",
       "    .dataframe tbody tr th {\n",
       "        vertical-align: top;\n",
       "    }\n",
       "\n",
       "    .dataframe thead th {\n",
       "        text-align: right;\n",
       "    }\n",
       "</style>\n",
       "<table border=\"1\" class=\"dataframe\">\n",
       "  <thead>\n",
       "    <tr style=\"text-align: right;\">\n",
       "      <th></th>\n",
       "      <th>price</th>\n",
       "      <th>postal_code</th>\n",
       "      <th>address</th>\n",
       "      <th>mls</th>\n",
       "      <th>bed</th>\n",
       "      <th>full_bath</th>\n",
       "      <th>half_bath</th>\n",
       "      <th>property_area</th>\n",
       "      <th>property_type</th>\n",
       "      <th>latitude</th>\n",
       "      <th>longitude</th>\n",
       "      <th>year_built</th>\n",
       "      <th>years_old</th>\n",
       "      <th>distance_downtown</th>\n",
       "      <th>monthly_payments</th>\n",
       "      <th>lot_size</th>\n",
       "      <th>basement</th>\n",
       "      <th>garage</th>\n",
       "    </tr>\n",
       "  </thead>\n",
       "  <tbody>\n",
       "    <tr>\n",
       "      <th>335</th>\n",
       "      <td>219900</td>\n",
       "      <td>T2Y 3G2</td>\n",
       "      <td>, 22 Shawbrooke Court SW</td>\n",
       "      <td>A1045249</td>\n",
       "      <td>2.0</td>\n",
       "      <td>2.0</td>\n",
       "      <td>1.0</td>\n",
       "      <td>1109.0</td>\n",
       "      <td>townhouse</td>\n",
       "      <td>50.906640</td>\n",
       "      <td>-114.092</td>\n",
       "      <td>1998.0</td>\n",
       "      <td>22.0</td>\n",
       "      <td>15.44</td>\n",
       "      <td>950.87</td>\n",
       "      <td>na</td>\n",
       "      <td>1.0</td>\n",
       "      <td>0.0</td>\n",
       "    </tr>\n",
       "    <tr>\n",
       "      <th>5096</th>\n",
       "      <td>539000</td>\n",
       "      <td>T2E 2Z9</td>\n",
       "      <td>1 - 1510 CENTRE A ST NE</td>\n",
       "      <td>C4306021</td>\n",
       "      <td>2.0</td>\n",
       "      <td>2.0</td>\n",
       "      <td>1.0</td>\n",
       "      <td>1448.0</td>\n",
       "      <td>townhouse</td>\n",
       "      <td>51.065644</td>\n",
       "      <td>-114.061</td>\n",
       "      <td>NaN</td>\n",
       "      <td>NaN</td>\n",
       "      <td>2.47</td>\n",
       "      <td>2330.70</td>\n",
       "      <td>na</td>\n",
       "      <td>0.0</td>\n",
       "      <td>1.0</td>\n",
       "    </tr>\n",
       "    <tr>\n",
       "      <th>3445</th>\n",
       "      <td>549000</td>\n",
       "      <td>T2N 3R3</td>\n",
       "      <td>1 - 1718 KENSINGTON RD NW</td>\n",
       "      <td>A1029496</td>\n",
       "      <td>3.0</td>\n",
       "      <td>3.0</td>\n",
       "      <td>1.0</td>\n",
       "      <td>1211.0</td>\n",
       "      <td>townhouse</td>\n",
       "      <td>51.052786</td>\n",
       "      <td>-114.098</td>\n",
       "      <td>2018.0</td>\n",
       "      <td>2.0</td>\n",
       "      <td>1.89</td>\n",
       "      <td>2373.94</td>\n",
       "      <td>na</td>\n",
       "      <td>0.0</td>\n",
       "      <td>1.0</td>\n",
       "    </tr>\n",
       "    <tr>\n",
       "      <th>2923</th>\n",
       "      <td>394000</td>\n",
       "      <td>T3E 1V3</td>\n",
       "      <td>1 - 1938 24A ST SW</td>\n",
       "      <td>A1034579</td>\n",
       "      <td>2.0</td>\n",
       "      <td>2.0</td>\n",
       "      <td>1.0</td>\n",
       "      <td>1046.0</td>\n",
       "      <td>townhouse</td>\n",
       "      <td>51.036421</td>\n",
       "      <td>-114.118</td>\n",
       "      <td>2007.0</td>\n",
       "      <td>13.0</td>\n",
       "      <td>3.22</td>\n",
       "      <td>1703.70</td>\n",
       "      <td>na</td>\n",
       "      <td>0.0</td>\n",
       "      <td>1.0</td>\n",
       "    </tr>\n",
       "    <tr>\n",
       "      <th>4699</th>\n",
       "      <td>285000</td>\n",
       "      <td>T2S 0L1</td>\n",
       "      <td>1 - 210 25 AVE SW</td>\n",
       "      <td>A1017109</td>\n",
       "      <td>2.0</td>\n",
       "      <td>1.0</td>\n",
       "      <td>NaN</td>\n",
       "      <td>849.0</td>\n",
       "      <td>condo</td>\n",
       "      <td>51.030731</td>\n",
       "      <td>-114.067</td>\n",
       "      <td>2006.0</td>\n",
       "      <td>14.0</td>\n",
       "      <td>1.65</td>\n",
       "      <td>1232.38</td>\n",
       "      <td>NaN</td>\n",
       "      <td>0.0</td>\n",
       "      <td>1.0</td>\n",
       "    </tr>\n",
       "  </tbody>\n",
       "</table>\n",
       "</div>"
      ],
      "text/plain": [
       "       price postal_code                    address       mls  bed  full_bath  \\\n",
       "335   219900     T2Y 3G2   , 22 Shawbrooke Court SW  A1045249  2.0        2.0   \n",
       "5096  539000     T2E 2Z9    1 - 1510 CENTRE A ST NE  C4306021  2.0        2.0   \n",
       "3445  549000     T2N 3R3  1 - 1718 KENSINGTON RD NW  A1029496  3.0        3.0   \n",
       "2923  394000     T3E 1V3         1 - 1938 24A ST SW  A1034579  2.0        2.0   \n",
       "4699  285000     T2S 0L1          1 - 210 25 AVE SW  A1017109  2.0        1.0   \n",
       "\n",
       "      half_bath  property_area property_type   latitude  longitude  \\\n",
       "335         1.0         1109.0     townhouse  50.906640   -114.092   \n",
       "5096        1.0         1448.0     townhouse  51.065644   -114.061   \n",
       "3445        1.0         1211.0     townhouse  51.052786   -114.098   \n",
       "2923        1.0         1046.0     townhouse  51.036421   -114.118   \n",
       "4699        NaN          849.0         condo  51.030731   -114.067   \n",
       "\n",
       "      year_built  years_old  distance_downtown  monthly_payments lot_size  \\\n",
       "335       1998.0       22.0              15.44            950.87       na   \n",
       "5096         NaN        NaN               2.47           2330.70       na   \n",
       "3445      2018.0        2.0               1.89           2373.94       na   \n",
       "2923      2007.0       13.0               3.22           1703.70       na   \n",
       "4699      2006.0       14.0               1.65           1232.38      NaN   \n",
       "\n",
       "      basement  garage  \n",
       "335        1.0     0.0  \n",
       "5096       0.0     1.0  \n",
       "3445       0.0     1.0  \n",
       "2923       0.0     1.0  \n",
       "4699       0.0     1.0  "
      ]
     },
     "execution_count": 54,
     "metadata": {},
     "output_type": "execute_result"
    }
   ],
   "source": [
    "result_df_clean = result.sort_values('address').drop_duplicates(subset=['mls']) \n",
    "result_df_clean.head()"
   ]
  },
  {
   "cell_type": "code",
   "execution_count": 55,
   "metadata": {},
   "outputs": [
    {
     "data": {
      "text/plain": [
       "1980"
      ]
     },
     "execution_count": 55,
     "metadata": {},
     "output_type": "execute_result"
    }
   ],
   "source": [
    "len(result_df_clean)"
   ]
  },
  {
   "cell_type": "code",
   "execution_count": 56,
   "metadata": {},
   "outputs": [],
   "source": [
    "result_df_clean.to_csv('data/calgary_listings.csv', index=False)"
   ]
  },
  {
   "cell_type": "markdown",
   "metadata": {},
   "source": [
    "-----------"
   ]
  },
  {
   "cell_type": "markdown",
   "metadata": {},
   "source": [
    "<div class=\"alert alert-info\">\n",
    "    <b>UNSED</b>\n",
    "</div>"
   ]
  },
  {
   "cell_type": "code",
   "execution_count": null,
   "metadata": {},
   "outputs": [],
   "source": [
    "house_details_more=[]\n",
    "url_house = []\n",
    "try:\n",
    "    for detail in soup.find_all('a'):\n",
    "        house_details_more.append(detail.get('href'))\n",
    "except:\n",
    "    house_details_more.append('None')\n",
    "    \n",
    "for i in house_details_more:\n",
    "    if '/ab/calgary-real-estate/' in str(i):\n",
    "        link = 'https://www.remax.ca' + str(i)\n",
    "        url_house.append(link)\n",
    "url_house"
   ]
  },
  {
   "cell_type": "code",
   "execution_count": null,
   "metadata": {},
   "outputs": [],
   "source": [
    "url_house[:5]"
   ]
  },
  {
   "cell_type": "code",
   "execution_count": null,
   "metadata": {},
   "outputs": [],
   "source": [
    "PostalCode = []\n",
    "Latitude = []\n",
    "Longitude = []\n",
    "YearBuilt = []\n",
    "\n",
    "for i in url_house[:5]:\n",
    "    \n",
    "    time.sleep(5)\n",
    "    \n",
    "    page = requests.get(i)\n",
    "    soup = BeautifulSoup(page.text, \"html.parser\")\n",
    "    \n",
    "    lat_all = soup.find_all('script')[4]\n",
    "    \n",
    "    string = ', '.join(lat_all)\n",
    "    pc = \"postalCode\"\n",
    "    position_pc = string.find(pc)\n",
    "    pcd = string[(position_pc+14):(position_pc+21)]\n",
    "    PostalCode.append(pcd)\n",
    "\n",
    "    lat = \"latitude\"\n",
    "    position_lat = string.find(lat)\n",
    "    latd = string[(position_lat+11):(position_lat+20)]\n",
    "    Latitude.append(latd)\n",
    "\n",
    "    long = \"longitude\"\n",
    "    position_long = string.find(long)\n",
    "    longd = string[(position_long+12):(position_long+23)]\n",
    "    Longitude.append(longd)\n",
    "    \n",
    "    house_address = []\n",
    "    \n",
    "    time.sleep(5)\n",
    "    \n",
    "    try:\n",
    "        addresses = soup.find_all('section', class_='property-details')\n",
    "        for address in addresses:\n",
    "            house_address.append(address.text)\n",
    "    except:\n",
    "        house_address.append('None')\n",
    "    \n",
    "    time.sleep(5)\n",
    "    \n",
    "    string = ', '.join(house_address)\n",
    "    s_year = \"Year Built\"\n",
    "    position_year = string.find(s_year)\n",
    "    year_built = string[(position_year+12):(position_year+16)]\n",
    "    YearBuilt.append(year_built)"
   ]
  },
  {
   "cell_type": "code",
   "execution_count": null,
   "metadata": {},
   "outputs": [],
   "source": []
  }
 ],
 "metadata": {
  "kernelspec": {
   "display_name": "Python 3",
   "language": "python",
   "name": "python3"
  },
  "language_info": {
   "codemirror_mode": {
    "name": "ipython",
    "version": 3
   },
   "file_extension": ".py",
   "mimetype": "text/x-python",
   "name": "python",
   "nbconvert_exporter": "python",
   "pygments_lexer": "ipython3",
   "version": "3.7.6"
  }
 },
 "nbformat": 4,
 "nbformat_minor": 2
}
