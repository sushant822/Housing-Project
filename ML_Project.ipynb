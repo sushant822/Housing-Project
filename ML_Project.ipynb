{
  "nbformat": 4,
  "nbformat_minor": 0,
  "metadata": {
    "colab": {
      "name": "ML Project.ipynb",
      "provenance": [],
      "collapsed_sections": [],
      "authorship_tag": "ABX9TyMsayktP0wppRVDksVq+Evx",
      "include_colab_link": true
    },
    "kernelspec": {
      "name": "python3",
      "display_name": "Python 3"
    }
  },
  "cells": [
    {
      "cell_type": "markdown",
      "metadata": {
        "id": "view-in-github",
        "colab_type": "text"
      },
      "source": [
        "<a href=\"https://colab.research.google.com/github/dayothompson/ML_Project/blob/working_branch/ML_Project.ipynb\" target=\"_parent\"><img src=\"https://colab.research.google.com/assets/colab-badge.svg\" alt=\"Open In Colab\"/></a>"
      ]
    },
    {
      "cell_type": "code",
      "metadata": {
        "id": "DSrM0YAdvppr"
      },
      "source": [
        "import pandas as pd\n",
        "import numpy as np\n",
        "import matplotlib.pyplot as plt\n",
        "import seaborn as sns\n",
        "import math\n",
        "%matplotlib inline\n",
        "import warnings\n",
        "warnings.filterwarnings(\"ignore\")"
      ],
      "execution_count": 54,
      "outputs": []
    },
    {
      "cell_type": "code",
      "metadata": {
        "id": "lqc8RaeUv3G0",
        "outputId": "87373d2d-f757-446a-d59a-f0fa7c8fc9fd",
        "colab": {
          "base_uri": "https://localhost:8080/",
          "height": 272
        }
      },
      "source": [
        "house_info = pd.read_csv(\"https://dayotestdb.s3.us-east-2.amazonaws.com/calgary_listings.csv\")\n",
        "house_info.head()"
      ],
      "execution_count": 55,
      "outputs": [
        {
          "output_type": "execute_result",
          "data": {
            "text/html": [
              "<div>\n",
              "<style scoped>\n",
              "    .dataframe tbody tr th:only-of-type {\n",
              "        vertical-align: middle;\n",
              "    }\n",
              "\n",
              "    .dataframe tbody tr th {\n",
              "        vertical-align: top;\n",
              "    }\n",
              "\n",
              "    .dataframe thead th {\n",
              "        text-align: right;\n",
              "    }\n",
              "</style>\n",
              "<table border=\"1\" class=\"dataframe\">\n",
              "  <thead>\n",
              "    <tr style=\"text-align: right;\">\n",
              "      <th></th>\n",
              "      <th>price</th>\n",
              "      <th>postal_code</th>\n",
              "      <th>address</th>\n",
              "      <th>bed</th>\n",
              "      <th>full_bath</th>\n",
              "      <th>half_bath</th>\n",
              "      <th>property_area</th>\n",
              "      <th>property_type</th>\n",
              "      <th>latitude</th>\n",
              "      <th>longitude</th>\n",
              "      <th>year_built</th>\n",
              "      <th>years_old</th>\n",
              "      <th>distance_downtown</th>\n",
              "      <th>monthly_payments</th>\n",
              "    </tr>\n",
              "  </thead>\n",
              "  <tbody>\n",
              "    <tr>\n",
              "      <th>0</th>\n",
              "      <td>329900</td>\n",
              "      <td>T1Y2Z3</td>\n",
              "      <td>4312 49 ST NE</td>\n",
              "      <td>4.0</td>\n",
              "      <td>1.0</td>\n",
              "      <td>1.0</td>\n",
              "      <td>2300.0</td>\n",
              "      <td>house</td>\n",
              "      <td>51.090065</td>\n",
              "      <td>-113.962366</td>\n",
              "      <td>1977.0</td>\n",
              "      <td>43.0</td>\n",
              "      <td>9.274735</td>\n",
              "      <td>1426.53</td>\n",
              "    </tr>\n",
              "    <tr>\n",
              "      <th>1</th>\n",
              "      <td>425000</td>\n",
              "      <td>T3L2E7</td>\n",
              "      <td>108 TUSCANY VALLEY DR NW</td>\n",
              "      <td>4.0</td>\n",
              "      <td>2.0</td>\n",
              "      <td>1.0</td>\n",
              "      <td>1336.0</td>\n",
              "      <td>house</td>\n",
              "      <td>51.128175</td>\n",
              "      <td>-114.247503</td>\n",
              "      <td>1998.0</td>\n",
              "      <td>22.0</td>\n",
              "      <td>15.255297</td>\n",
              "      <td>1837.75</td>\n",
              "    </tr>\n",
              "    <tr>\n",
              "      <th>2</th>\n",
              "      <td>234900</td>\n",
              "      <td>T3R0V5</td>\n",
              "      <td>2107 - 450 SAGE VALLEY DR NW</td>\n",
              "      <td>2.0</td>\n",
              "      <td>2.0</td>\n",
              "      <td>NaN</td>\n",
              "      <td>835.0</td>\n",
              "      <td>condo</td>\n",
              "      <td>51.179434</td>\n",
              "      <td>-114.158282</td>\n",
              "      <td>2015.0</td>\n",
              "      <td>5.0</td>\n",
              "      <td>16.076061</td>\n",
              "      <td>1015.74</td>\n",
              "    </tr>\n",
              "    <tr>\n",
              "      <th>3</th>\n",
              "      <td>369000</td>\n",
              "      <td>T1Y3V2</td>\n",
              "      <td>6852 RUNDLEHORN DR NE</td>\n",
              "      <td>5.0</td>\n",
              "      <td>3.0</td>\n",
              "      <td>NaN</td>\n",
              "      <td>1136.0</td>\n",
              "      <td>house</td>\n",
              "      <td>51.079270</td>\n",
              "      <td>-113.940553</td>\n",
              "      <td>1978.0</td>\n",
              "      <td>42.0</td>\n",
              "      <td>10.076730</td>\n",
              "      <td>1595.60</td>\n",
              "    </tr>\n",
              "    <tr>\n",
              "      <th>4</th>\n",
              "      <td>424900</td>\n",
              "      <td>T2X1G2</td>\n",
              "      <td>27 MIDRIDGE CLOSE SE</td>\n",
              "      <td>3.0</td>\n",
              "      <td>2.0</td>\n",
              "      <td>NaN</td>\n",
              "      <td>1055.0</td>\n",
              "      <td>house</td>\n",
              "      <td>50.920030</td>\n",
              "      <td>-114.054980</td>\n",
              "      <td>1978.0</td>\n",
              "      <td>42.0</td>\n",
              "      <td>13.958058</td>\n",
              "      <td>1837.32</td>\n",
              "    </tr>\n",
              "  </tbody>\n",
              "</table>\n",
              "</div>"
            ],
            "text/plain": [
              "    price postal_code  ... distance_downtown  monthly_payments\n",
              "0  329900      T1Y2Z3  ...          9.274735           1426.53\n",
              "1  425000      T3L2E7  ...         15.255297           1837.75\n",
              "2  234900      T3R0V5  ...         16.076061           1015.74\n",
              "3  369000      T1Y3V2  ...         10.076730           1595.60\n",
              "4  424900      T2X1G2  ...         13.958058           1837.32\n",
              "\n",
              "[5 rows x 14 columns]"
            ]
          },
          "metadata": {
            "tags": []
          },
          "execution_count": 55
        }
      ]
    },
    {
      "cell_type": "markdown",
      "metadata": {
        "id": "CbH0fYscxE-4"
      },
      "source": [
        "## **Analyzing Data**"
      ]
    },
    {
      "cell_type": "code",
      "metadata": {
        "id": "zUl3yanQxdnQ",
        "outputId": "eff4588c-a099-4e96-b14f-f1672c9d869c",
        "colab": {
          "base_uri": "https://localhost:8080/",
          "height": 405
        }
      },
      "source": [
        "sns.set_style('white')\n",
        "plt.figure(figsize=(10, 6))\n",
        "sns.countplot(x=\"bed\", data=house_info)"
      ],
      "execution_count": 57,
      "outputs": [
        {
          "output_type": "execute_result",
          "data": {
            "text/plain": [
              "<matplotlib.axes._subplots.AxesSubplot at 0x7f9163019da0>"
            ]
          },
          "metadata": {
            "tags": []
          },
          "execution_count": 57
        },
        {
          "output_type": "display_data",
          "data": {
            "image/png": "[encoded data removed]",
            "text/plain": [
              "<Figure size 720x432 with 1 Axes>"
            ]
          },
          "metadata": {
            "tags": []
          }
        }
      ]
    },
    {
      "cell_type": "code",
      "metadata": {
        "id": "RFSaZKkvxnLA",
        "outputId": "43ae2e48-3edc-415f-c85d-b53c0a5c0186",
        "colab": {
          "base_uri": "https://localhost:8080/",
          "height": 405
        }
      },
      "source": [
        "plt.figure(figsize=(10, 6))\n",
        "sns.histplot(data=house_info, x=\"price\", hue=\"property_type\")"
      ],
      "execution_count": 61,
      "outputs": [
        {
          "output_type": "execute_result",
          "data": {
            "text/plain": [
              "<matplotlib.axes._subplots.AxesSubplot at 0x7f916368d320>"
            ]
          },
          "metadata": {
            "tags": []
          },
          "execution_count": 61
        },
        {
          "output_type": "display_data",
          "data": {
            "image/png": "[encoded data removed]",
            "text/plain": [
              "<Figure size 720x432 with 1 Axes>"
            ]
          },
          "metadata": {
            "tags": []
          }
        }
      ]
    },
    {
      "cell_type": "markdown",
      "metadata": {
        "id": "YcCNONf0xxo7"
      },
      "source": [
        "# **Data Wrangling**"
      ]
    },
    {
      "cell_type": "code",
      "metadata": {
        "id": "UCxeX9hYx0wa",
        "outputId": "5bc50b67-46f2-430d-aefc-1c86b145ea41",
        "colab": {
          "base_uri": "https://localhost:8080/"
        }
      },
      "source": [
        "house_info.isnull().sum()"
      ],
      "execution_count": 62,
      "outputs": [
        {
          "output_type": "execute_result",
          "data": {
            "text/plain": [
              "price                 0\n",
              "postal_code           0\n",
              "address               0\n",
              "bed                   0\n",
              "full_bath             0\n",
              "half_bath            37\n",
              "property_area         0\n",
              "property_type         0\n",
              "latitude              0\n",
              "longitude             0\n",
              "year_built            7\n",
              "years_old             7\n",
              "distance_downtown     0\n",
              "monthly_payments      5\n",
              "dtype: int64"
            ]
          },
          "metadata": {
            "tags": []
          },
          "execution_count": 62
        }
      ]
    },
    {
      "cell_type": "code",
      "metadata": {
        "id": "o6PE2vP3zZa5",
        "outputId": "5eb082d6-f074-45bd-8658-4bf6572a0bf7",
        "colab": {
          "base_uri": "https://localhost:8080/",
          "height": 484
        }
      },
      "source": [
        "sns.set_style('white')\n",
        "plt.figure(figsize=(15, 6))\n",
        "sns.heatmap(data=house_info.isnull(), yticklabels=False)"
      ],
      "execution_count": 63,
      "outputs": [
        {
          "output_type": "execute_result",
          "data": {
            "text/plain": [
              "<matplotlib.axes._subplots.AxesSubplot at 0x7f9163e08a90>"
            ]
          },
          "metadata": {
            "tags": []
          },
          "execution_count": 63
        },
        {
          "output_type": "display_data",
          "data": {
            "image/png": "[encoded data removed]",
            "text/plain": [
              "<Figure size 1080x432 with 2 Axes>"
            ]
          },
          "metadata": {
            "tags": []
          }
        }
      ]
    },
    {
      "cell_type": "code",
      "metadata": {
        "id": "BaIIR4YnzcWQ"
      },
      "source": [
        "# Replace nan values with average years_old and 0\n",
        "\n",
        "house_info['years_old']=house_info['years_old'].replace(np.nan,house_info['years_old'].mean())\n",
        "house_info['half_bath']=house_info['half_bath'].replace(np.nan,0)"
      ],
      "execution_count": 64,
      "outputs": []
    },
    {
      "cell_type": "code",
      "metadata": {
        "id": "6cBXxEE6zzCr",
        "outputId": "6192ad1b-91be-4e3b-afb6-d6578904c739",
        "colab": {
          "base_uri": "https://localhost:8080/"
        }
      },
      "source": [
        "house_info.isnull().sum()"
      ],
      "execution_count": 65,
      "outputs": [
        {
          "output_type": "execute_result",
          "data": {
            "text/plain": [
              "price                0\n",
              "postal_code          0\n",
              "address              0\n",
              "bed                  0\n",
              "full_bath            0\n",
              "half_bath            0\n",
              "property_area        0\n",
              "property_type        0\n",
              "latitude             0\n",
              "longitude            0\n",
              "year_built           7\n",
              "years_old            0\n",
              "distance_downtown    0\n",
              "monthly_payments     5\n",
              "dtype: int64"
            ]
          },
          "metadata": {
            "tags": []
          },
          "execution_count": 65
        }
      ]
    },
    {
      "cell_type": "code",
      "metadata": {
        "id": "aUjoIhlPz2Gm",
        "outputId": "0e9da28a-e611-428e-8e6f-6ba8b8c81a39",
        "colab": {
          "base_uri": "https://localhost:8080/",
          "height": 484
        }
      },
      "source": [
        "sns.set_style('white')\n",
        "plt.figure(figsize=(15, 6))\n",
        "sns.heatmap(data=house_info.isnull(), yticklabels=False)"
      ],
      "execution_count": 66,
      "outputs": [
        {
          "output_type": "execute_result",
          "data": {
            "text/plain": [
              "<matplotlib.axes._subplots.AxesSubplot at 0x7f9163eb84a8>"
            ]
          },
          "metadata": {
            "tags": []
          },
          "execution_count": 66
        },
        {
          "output_type": "display_data",
          "data": {
            "image/png": "[encoded data removed]",
            "text/plain": [
              "<Figure size 1080x432 with 2 Axes>"
            ]
          },
          "metadata": {
            "tags": []
          }
        }
      ]
    },
    {
      "cell_type": "code",
      "metadata": {
        "id": "8nIlm88oz-LL",
        "outputId": "484132a3-c7c9-4fb8-dbca-e5a38e23878a",
        "colab": {
          "base_uri": "https://localhost:8080/",
          "height": 272
        }
      },
      "source": [
        "house_info.head()"
      ],
      "execution_count": 67,
      "outputs": [
        {
          "output_type": "execute_result",
          "data": {
            "text/html": [
              "<div>\n",
              "<style scoped>\n",
              "    .dataframe tbody tr th:only-of-type {\n",
              "        vertical-align: middle;\n",
              "    }\n",
              "\n",
              "    .dataframe tbody tr th {\n",
              "        vertical-align: top;\n",
              "    }\n",
              "\n",
              "    .dataframe thead th {\n",
              "        text-align: right;\n",
              "    }\n",
              "</style>\n",
              "<table border=\"1\" class=\"dataframe\">\n",
              "  <thead>\n",
              "    <tr style=\"text-align: right;\">\n",
              "      <th></th>\n",
              "      <th>price</th>\n",
              "      <th>postal_code</th>\n",
              "      <th>address</th>\n",
              "      <th>bed</th>\n",
              "      <th>full_bath</th>\n",
              "      <th>half_bath</th>\n",
              "      <th>property_area</th>\n",
              "      <th>property_type</th>\n",
              "      <th>latitude</th>\n",
              "      <th>longitude</th>\n",
              "      <th>year_built</th>\n",
              "      <th>years_old</th>\n",
              "      <th>distance_downtown</th>\n",
              "      <th>monthly_payments</th>\n",
              "    </tr>\n",
              "  </thead>\n",
              "  <tbody>\n",
              "    <tr>\n",
              "      <th>0</th>\n",
              "      <td>329900</td>\n",
              "      <td>T1Y2Z3</td>\n",
              "      <td>4312 49 ST NE</td>\n",
              "      <td>4.0</td>\n",
              "      <td>1.0</td>\n",
              "      <td>1.0</td>\n",
              "      <td>2300.0</td>\n",
              "      <td>house</td>\n",
              "      <td>51.090065</td>\n",
              "      <td>-113.962366</td>\n",
              "      <td>1977.0</td>\n",
              "      <td>43.0</td>\n",
              "      <td>9.274735</td>\n",
              "      <td>1426.53</td>\n",
              "    </tr>\n",
              "    <tr>\n",
              "      <th>1</th>\n",
              "      <td>425000</td>\n",
              "      <td>T3L2E7</td>\n",
              "      <td>108 TUSCANY VALLEY DR NW</td>\n",
              "      <td>4.0</td>\n",
              "      <td>2.0</td>\n",
              "      <td>1.0</td>\n",
              "      <td>1336.0</td>\n",
              "      <td>house</td>\n",
              "      <td>51.128175</td>\n",
              "      <td>-114.247503</td>\n",
              "      <td>1998.0</td>\n",
              "      <td>22.0</td>\n",
              "      <td>15.255297</td>\n",
              "      <td>1837.75</td>\n",
              "    </tr>\n",
              "    <tr>\n",
              "      <th>2</th>\n",
              "      <td>234900</td>\n",
              "      <td>T3R0V5</td>\n",
              "      <td>2107 - 450 SAGE VALLEY DR NW</td>\n",
              "      <td>2.0</td>\n",
              "      <td>2.0</td>\n",
              "      <td>0.0</td>\n",
              "      <td>835.0</td>\n",
              "      <td>condo</td>\n",
              "      <td>51.179434</td>\n",
              "      <td>-114.158282</td>\n",
              "      <td>2015.0</td>\n",
              "      <td>5.0</td>\n",
              "      <td>16.076061</td>\n",
              "      <td>1015.74</td>\n",
              "    </tr>\n",
              "    <tr>\n",
              "      <th>3</th>\n",
              "      <td>369000</td>\n",
              "      <td>T1Y3V2</td>\n",
              "      <td>6852 RUNDLEHORN DR NE</td>\n",
              "      <td>5.0</td>\n",
              "      <td>3.0</td>\n",
              "      <td>0.0</td>\n",
              "      <td>1136.0</td>\n",
              "      <td>house</td>\n",
              "      <td>51.079270</td>\n",
              "      <td>-113.940553</td>\n",
              "      <td>1978.0</td>\n",
              "      <td>42.0</td>\n",
              "      <td>10.076730</td>\n",
              "      <td>1595.60</td>\n",
              "    </tr>\n",
              "    <tr>\n",
              "      <th>4</th>\n",
              "      <td>424900</td>\n",
              "      <td>T2X1G2</td>\n",
              "      <td>27 MIDRIDGE CLOSE SE</td>\n",
              "      <td>3.0</td>\n",
              "      <td>2.0</td>\n",
              "      <td>0.0</td>\n",
              "      <td>1055.0</td>\n",
              "      <td>house</td>\n",
              "      <td>50.920030</td>\n",
              "      <td>-114.054980</td>\n",
              "      <td>1978.0</td>\n",
              "      <td>42.0</td>\n",
              "      <td>13.958058</td>\n",
              "      <td>1837.32</td>\n",
              "    </tr>\n",
              "  </tbody>\n",
              "</table>\n",
              "</div>"
            ],
            "text/plain": [
              "    price postal_code  ... distance_downtown  monthly_payments\n",
              "0  329900      T1Y2Z3  ...          9.274735           1426.53\n",
              "1  425000      T3L2E7  ...         15.255297           1837.75\n",
              "2  234900      T3R0V5  ...         16.076061           1015.74\n",
              "3  369000      T1Y3V2  ...         10.076730           1595.60\n",
              "4  424900      T2X1G2  ...         13.958058           1837.32\n",
              "\n",
              "[5 rows x 14 columns]"
            ]
          },
          "metadata": {
            "tags": []
          },
          "execution_count": 67
        }
      ]
    },
    {
      "cell_type": "markdown",
      "metadata": {
        "id": "-tHxFogl0MJh"
      },
      "source": [
        "# **One-hot encoding**"
      ]
    },
    {
      "cell_type": "code",
      "metadata": {
        "id": "dCkRAc1Z0T2a",
        "outputId": "79801ea6-24d3-47fc-e5a0-94e3324636b2",
        "colab": {
          "base_uri": "https://localhost:8080/",
          "height": 204
        }
      },
      "source": [
        "prop_area = pd.get_dummies(house_info[\"property_type\"])\n",
        "prop_area.head()"
      ],
      "execution_count": 68,
      "outputs": [
        {
          "output_type": "execute_result",
          "data": {
            "text/html": [
              "<div>\n",
              "<style scoped>\n",
              "    .dataframe tbody tr th:only-of-type {\n",
              "        vertical-align: middle;\n",
              "    }\n",
              "\n",
              "    .dataframe tbody tr th {\n",
              "        vertical-align: top;\n",
              "    }\n",
              "\n",
              "    .dataframe thead th {\n",
              "        text-align: right;\n",
              "    }\n",
              "</style>\n",
              "<table border=\"1\" class=\"dataframe\">\n",
              "  <thead>\n",
              "    <tr style=\"text-align: right;\">\n",
              "      <th></th>\n",
              "      <th>condo</th>\n",
              "      <th>house</th>\n",
              "      <th>townhouse</th>\n",
              "    </tr>\n",
              "  </thead>\n",
              "  <tbody>\n",
              "    <tr>\n",
              "      <th>0</th>\n",
              "      <td>0</td>\n",
              "      <td>1</td>\n",
              "      <td>0</td>\n",
              "    </tr>\n",
              "    <tr>\n",
              "      <th>1</th>\n",
              "      <td>0</td>\n",
              "      <td>1</td>\n",
              "      <td>0</td>\n",
              "    </tr>\n",
              "    <tr>\n",
              "      <th>2</th>\n",
              "      <td>1</td>\n",
              "      <td>0</td>\n",
              "      <td>0</td>\n",
              "    </tr>\n",
              "    <tr>\n",
              "      <th>3</th>\n",
              "      <td>0</td>\n",
              "      <td>1</td>\n",
              "      <td>0</td>\n",
              "    </tr>\n",
              "    <tr>\n",
              "      <th>4</th>\n",
              "      <td>0</td>\n",
              "      <td>1</td>\n",
              "      <td>0</td>\n",
              "    </tr>\n",
              "  </tbody>\n",
              "</table>\n",
              "</div>"
            ],
            "text/plain": [
              "   condo  house  townhouse\n",
              "0      0      1          0\n",
              "1      0      1          0\n",
              "2      1      0          0\n",
              "3      0      1          0\n",
              "4      0      1          0"
            ]
          },
          "metadata": {
            "tags": []
          },
          "execution_count": 68
        }
      ]
    },
    {
      "cell_type": "markdown",
      "metadata": {
        "id": "yoL5ftFU0hJD"
      },
      "source": [
        "## **Merge tables**"
      ]
    },
    {
      "cell_type": "code",
      "metadata": {
        "id": "E-4b_BrM0lD7",
        "outputId": "05b98ed5-52e0-49fc-eade-63fc11eb54ad",
        "colab": {
          "base_uri": "https://localhost:8080/",
          "height": 343
        }
      },
      "source": [
        "table_df = pd.concat([house_info, prop_area], axis=1)\n",
        "table_df.head()"
      ],
      "execution_count": 69,
      "outputs": [
        {
          "output_type": "execute_result",
          "data": {
            "text/html": [
              "<div>\n",
              "<style scoped>\n",
              "    .dataframe tbody tr th:only-of-type {\n",
              "        vertical-align: middle;\n",
              "    }\n",
              "\n",
              "    .dataframe tbody tr th {\n",
              "        vertical-align: top;\n",
              "    }\n",
              "\n",
              "    .dataframe thead th {\n",
              "        text-align: right;\n",
              "    }\n",
              "</style>\n",
              "<table border=\"1\" class=\"dataframe\">\n",
              "  <thead>\n",
              "    <tr style=\"text-align: right;\">\n",
              "      <th></th>\n",
              "      <th>price</th>\n",
              "      <th>postal_code</th>\n",
              "      <th>address</th>\n",
              "      <th>bed</th>\n",
              "      <th>full_bath</th>\n",
              "      <th>half_bath</th>\n",
              "      <th>property_area</th>\n",
              "      <th>property_type</th>\n",
              "      <th>latitude</th>\n",
              "      <th>longitude</th>\n",
              "      <th>year_built</th>\n",
              "      <th>years_old</th>\n",
              "      <th>distance_downtown</th>\n",
              "      <th>monthly_payments</th>\n",
              "      <th>condo</th>\n",
              "      <th>house</th>\n",
              "      <th>townhouse</th>\n",
              "    </tr>\n",
              "  </thead>\n",
              "  <tbody>\n",
              "    <tr>\n",
              "      <th>0</th>\n",
              "      <td>329900</td>\n",
              "      <td>T1Y2Z3</td>\n",
              "      <td>4312 49 ST NE</td>\n",
              "      <td>4.0</td>\n",
              "      <td>1.0</td>\n",
              "      <td>1.0</td>\n",
              "      <td>2300.0</td>\n",
              "      <td>house</td>\n",
              "      <td>51.090065</td>\n",
              "      <td>-113.962366</td>\n",
              "      <td>1977.0</td>\n",
              "      <td>43.0</td>\n",
              "      <td>9.274735</td>\n",
              "      <td>1426.53</td>\n",
              "      <td>0</td>\n",
              "      <td>1</td>\n",
              "      <td>0</td>\n",
              "    </tr>\n",
              "    <tr>\n",
              "      <th>1</th>\n",
              "      <td>425000</td>\n",
              "      <td>T3L2E7</td>\n",
              "      <td>108 TUSCANY VALLEY DR NW</td>\n",
              "      <td>4.0</td>\n",
              "      <td>2.0</td>\n",
              "      <td>1.0</td>\n",
              "      <td>1336.0</td>\n",
              "      <td>house</td>\n",
              "      <td>51.128175</td>\n",
              "      <td>-114.247503</td>\n",
              "      <td>1998.0</td>\n",
              "      <td>22.0</td>\n",
              "      <td>15.255297</td>\n",
              "      <td>1837.75</td>\n",
              "      <td>0</td>\n",
              "      <td>1</td>\n",
              "      <td>0</td>\n",
              "    </tr>\n",
              "    <tr>\n",
              "      <th>2</th>\n",
              "      <td>234900</td>\n",
              "      <td>T3R0V5</td>\n",
              "      <td>2107 - 450 SAGE VALLEY DR NW</td>\n",
              "      <td>2.0</td>\n",
              "      <td>2.0</td>\n",
              "      <td>0.0</td>\n",
              "      <td>835.0</td>\n",
              "      <td>condo</td>\n",
              "      <td>51.179434</td>\n",
              "      <td>-114.158282</td>\n",
              "      <td>2015.0</td>\n",
              "      <td>5.0</td>\n",
              "      <td>16.076061</td>\n",
              "      <td>1015.74</td>\n",
              "      <td>1</td>\n",
              "      <td>0</td>\n",
              "      <td>0</td>\n",
              "    </tr>\n",
              "    <tr>\n",
              "      <th>3</th>\n",
              "      <td>369000</td>\n",
              "      <td>T1Y3V2</td>\n",
              "      <td>6852 RUNDLEHORN DR NE</td>\n",
              "      <td>5.0</td>\n",
              "      <td>3.0</td>\n",
              "      <td>0.0</td>\n",
              "      <td>1136.0</td>\n",
              "      <td>house</td>\n",
              "      <td>51.079270</td>\n",
              "      <td>-113.940553</td>\n",
              "      <td>1978.0</td>\n",
              "      <td>42.0</td>\n",
              "      <td>10.076730</td>\n",
              "      <td>1595.60</td>\n",
              "      <td>0</td>\n",
              "      <td>1</td>\n",
              "      <td>0</td>\n",
              "    </tr>\n",
              "    <tr>\n",
              "      <th>4</th>\n",
              "      <td>424900</td>\n",
              "      <td>T2X1G2</td>\n",
              "      <td>27 MIDRIDGE CLOSE SE</td>\n",
              "      <td>3.0</td>\n",
              "      <td>2.0</td>\n",
              "      <td>0.0</td>\n",
              "      <td>1055.0</td>\n",
              "      <td>house</td>\n",
              "      <td>50.920030</td>\n",
              "      <td>-114.054980</td>\n",
              "      <td>1978.0</td>\n",
              "      <td>42.0</td>\n",
              "      <td>13.958058</td>\n",
              "      <td>1837.32</td>\n",
              "      <td>0</td>\n",
              "      <td>1</td>\n",
              "      <td>0</td>\n",
              "    </tr>\n",
              "  </tbody>\n",
              "</table>\n",
              "</div>"
            ],
            "text/plain": [
              "    price postal_code                       address  ...  condo  house  townhouse\n",
              "0  329900      T1Y2Z3                 4312 49 ST NE  ...      0      1          0\n",
              "1  425000      T3L2E7      108 TUSCANY VALLEY DR NW  ...      0      1          0\n",
              "2  234900      T3R0V5  2107 - 450 SAGE VALLEY DR NW  ...      1      0          0\n",
              "3  369000      T1Y3V2         6852 RUNDLEHORN DR NE  ...      0      1          0\n",
              "4  424900      T2X1G2          27 MIDRIDGE CLOSE SE  ...      0      1          0\n",
              "\n",
              "[5 rows x 17 columns]"
            ]
          },
          "metadata": {
            "tags": []
          },
          "execution_count": 69
        }
      ]
    },
    {
      "cell_type": "code",
      "metadata": {
        "id": "EJ_iQAP_0rNA",
        "outputId": "5400cc6c-3cf1-4596-aa24-f153e9186b98",
        "colab": {
          "base_uri": "https://localhost:8080/",
          "height": 204
        }
      },
      "source": [
        "df = table_df[['price', 'bed', 'full_bath', 'half_bath', 'property_area', 'condo',\n",
        "                 'house', 'townhouse', 'years_old', 'distance_downtown']]\n",
        "df.head()"
      ],
      "execution_count": 71,
      "outputs": [
        {
          "output_type": "execute_result",
          "data": {
            "text/html": [
              "<div>\n",
              "<style scoped>\n",
              "    .dataframe tbody tr th:only-of-type {\n",
              "        vertical-align: middle;\n",
              "    }\n",
              "\n",
              "    .dataframe tbody tr th {\n",
              "        vertical-align: top;\n",
              "    }\n",
              "\n",
              "    .dataframe thead th {\n",
              "        text-align: right;\n",
              "    }\n",
              "</style>\n",
              "<table border=\"1\" class=\"dataframe\">\n",
              "  <thead>\n",
              "    <tr style=\"text-align: right;\">\n",
              "      <th></th>\n",
              "      <th>price</th>\n",
              "      <th>bed</th>\n",
              "      <th>full_bath</th>\n",
              "      <th>half_bath</th>\n",
              "      <th>property_area</th>\n",
              "      <th>condo</th>\n",
              "      <th>house</th>\n",
              "      <th>townhouse</th>\n",
              "      <th>years_old</th>\n",
              "      <th>distance_downtown</th>\n",
              "    </tr>\n",
              "  </thead>\n",
              "  <tbody>\n",
              "    <tr>\n",
              "      <th>0</th>\n",
              "      <td>329900</td>\n",
              "      <td>4.0</td>\n",
              "      <td>1.0</td>\n",
              "      <td>1.0</td>\n",
              "      <td>2300.0</td>\n",
              "      <td>0</td>\n",
              "      <td>1</td>\n",
              "      <td>0</td>\n",
              "      <td>43.0</td>\n",
              "      <td>9.274735</td>\n",
              "    </tr>\n",
              "    <tr>\n",
              "      <th>1</th>\n",
              "      <td>425000</td>\n",
              "      <td>4.0</td>\n",
              "      <td>2.0</td>\n",
              "      <td>1.0</td>\n",
              "      <td>1336.0</td>\n",
              "      <td>0</td>\n",
              "      <td>1</td>\n",
              "      <td>0</td>\n",
              "      <td>22.0</td>\n",
              "      <td>15.255297</td>\n",
              "    </tr>\n",
              "    <tr>\n",
              "      <th>2</th>\n",
              "      <td>234900</td>\n",
              "      <td>2.0</td>\n",
              "      <td>2.0</td>\n",
              "      <td>0.0</td>\n",
              "      <td>835.0</td>\n",
              "      <td>1</td>\n",
              "      <td>0</td>\n",
              "      <td>0</td>\n",
              "      <td>5.0</td>\n",
              "      <td>16.076061</td>\n",
              "    </tr>\n",
              "    <tr>\n",
              "      <th>3</th>\n",
              "      <td>369000</td>\n",
              "      <td>5.0</td>\n",
              "      <td>3.0</td>\n",
              "      <td>0.0</td>\n",
              "      <td>1136.0</td>\n",
              "      <td>0</td>\n",
              "      <td>1</td>\n",
              "      <td>0</td>\n",
              "      <td>42.0</td>\n",
              "      <td>10.076730</td>\n",
              "    </tr>\n",
              "    <tr>\n",
              "      <th>4</th>\n",
              "      <td>424900</td>\n",
              "      <td>3.0</td>\n",
              "      <td>2.0</td>\n",
              "      <td>0.0</td>\n",
              "      <td>1055.0</td>\n",
              "      <td>0</td>\n",
              "      <td>1</td>\n",
              "      <td>0</td>\n",
              "      <td>42.0</td>\n",
              "      <td>13.958058</td>\n",
              "    </tr>\n",
              "  </tbody>\n",
              "</table>\n",
              "</div>"
            ],
            "text/plain": [
              "    price  bed  full_bath  ...  townhouse  years_old  distance_downtown\n",
              "0  329900  4.0        1.0  ...          0       43.0           9.274735\n",
              "1  425000  4.0        2.0  ...          0       22.0          15.255297\n",
              "2  234900  2.0        2.0  ...          0        5.0          16.076061\n",
              "3  369000  5.0        3.0  ...          0       42.0          10.076730\n",
              "4  424900  3.0        2.0  ...          0       42.0          13.958058\n",
              "\n",
              "[5 rows x 10 columns]"
            ]
          },
          "metadata": {
            "tags": []
          },
          "execution_count": 71
        }
      ]
    },
    {
      "cell_type": "markdown",
      "metadata": {
        "id": "ZEO3JYuN0xni"
      },
      "source": [
        "## **Train Data**"
      ]
    },
    {
      "cell_type": "code",
      "metadata": {
        "id": "jjuwKzSw011r"
      },
      "source": [
        "X = df.drop('price', axis=1)\n",
        "y = df['price']"
      ],
      "execution_count": 72,
      "outputs": []
    },
    {
      "cell_type": "code",
      "metadata": {
        "id": "anc2zGhl05JL"
      },
      "source": [
        "# Use train_test_split to create training and testing data\n",
        "from sklearn.model_selection import train_test_split\n",
        "\n",
        "X_train, X_test, y_train, y_test = train_test_split(X, y, random_state=42)"
      ],
      "execution_count": 73,
      "outputs": []
    },
    {
      "cell_type": "code",
      "metadata": {
        "id": "7s8FxnfQ07c-"
      },
      "source": [
        "# Create the model using LinearRegression\n",
        "\n",
        "from sklearn.linear_model import LinearRegression\n",
        "model = LinearRegression()"
      ],
      "execution_count": 74,
      "outputs": []
    },
    {
      "cell_type": "code",
      "metadata": {
        "id": "imE5A-_O099k",
        "outputId": "7a237e36-569a-47e3-ede6-525e8cddb1a1",
        "colab": {
          "base_uri": "https://localhost:8080/"
        }
      },
      "source": [
        "# Fit the model to the training data and calculate the score for the training data\n",
        "\n",
        "model.fit(X_train, y_train)\n",
        "training_score = model.score(X_train, y_train)\n",
        "\n",
        "print(f\"Training Score: {training_score}\")"
      ],
      "execution_count": 75,
      "outputs": [
        {
          "output_type": "stream",
          "text": [
            "Training Score: 0.6908166391632179\n"
          ],
          "name": "stdout"
        }
      ]
    },
    {
      "cell_type": "markdown",
      "metadata": {
        "id": "PO-FkH3w1DpK"
      },
      "source": [
        "## **Test Data**"
      ]
    },
    {
      "cell_type": "code",
      "metadata": {
        "id": "t_FVyL_X1Bzc",
        "outputId": "6290f480-6ac6-47c7-9ce5-87ece211138d",
        "colab": {
          "base_uri": "https://localhost:8080/"
        }
      },
      "source": [
        "# Calculate the score for the testing data\n",
        "\n",
        "testing_score = model.score(X_test, y_test)\n",
        "print(f\"Testing Score: {testing_score}\")"
      ],
      "execution_count": 76,
      "outputs": [
        {
          "output_type": "stream",
          "text": [
            "Testing Score: 0.8047344823959057\n"
          ],
          "name": "stdout"
        }
      ]
    },
    {
      "cell_type": "markdown",
      "metadata": {
        "id": "JUY6EoMP1ZkQ"
      },
      "source": [
        "## **Linear Regression Model**"
      ]
    },
    {
      "cell_type": "code",
      "metadata": {
        "id": "QddIt6tB1Rbj",
        "outputId": "c1ba62ee-51f8-421a-878f-f8296b75560f",
        "colab": {
          "base_uri": "https://localhost:8080/"
        }
      },
      "source": [
        "from sklearn import linear_model\n",
        "regr = linear_model.LinearRegression()\n",
        "regr.fit(X, y)"
      ],
      "execution_count": 77,
      "outputs": [
        {
          "output_type": "execute_result",
          "data": {
            "text/plain": [
              "LinearRegression(copy_X=True, fit_intercept=True, n_jobs=None, normalize=False)"
            ]
          },
          "metadata": {
            "tags": []
          },
          "execution_count": 77
        }
      ]
    },
    {
      "cell_type": "code",
      "metadata": {
        "id": "EMEItztG1hE5",
        "outputId": "df5ca2c5-8b78-483c-f27f-3bcad263606c",
        "colab": {
          "base_uri": "https://localhost:8080/"
        }
      },
      "source": [
        "regr.coef_"
      ],
      "execution_count": 78,
      "outputs": [
        {
          "output_type": "execute_result",
          "data": {
            "text/plain": [
              "array([-44843.84074048, 130082.88095791, -94980.17068683,    446.94079893,\n",
              "        -7165.64862124,  23112.9263764 , -15947.27775516,    383.64304873,\n",
              "       -16590.46192107])"
            ]
          },
          "metadata": {
            "tags": []
          },
          "execution_count": 78
        }
      ]
    },
    {
      "cell_type": "code",
      "metadata": {
        "id": "mX5xLjO91lDY",
        "outputId": "39ba3f51-d351-4798-c1bf-ac0559a2600e",
        "colab": {
          "base_uri": "https://localhost:8080/"
        }
      },
      "source": [
        "regr.intercept_"
      ],
      "execution_count": 79,
      "outputs": [
        {
          "output_type": "execute_result",
          "data": {
            "text/plain": [
              "-55397.261219654"
            ]
          },
          "metadata": {
            "tags": []
          },
          "execution_count": 79
        }
      ]
    },
    {
      "cell_type": "code",
      "metadata": {
        "id": "CKakb__d1n3X",
        "outputId": "c31bf4ed-190c-49b1-f4f5-092ff177ec87",
        "colab": {
          "base_uri": "https://localhost:8080/"
        }
      },
      "source": [
        "# Predict the price of a townhouse with the following feature\n",
        "\n",
        "# bed = 3\n",
        "# full_bath = 2\n",
        "# half_bath = 0\n",
        "# property_area = 1500\n",
        "# years_old = 15\n",
        "# distance_downtown = 12.554\n",
        "\n",
        "regr.predict([[3, 2, 0, 1500, 0, 0, 1, 15, 12.554]])"
      ],
      "execution_count": 80,
      "outputs": [
        {
          "output_type": "execute_result",
          "data": {
            "text/plain": [
              "array([522178.88589027])"
            ]
          },
          "metadata": {
            "tags": []
          },
          "execution_count": 80
        }
      ]
    },
    {
      "cell_type": "code",
      "metadata": {
        "id": "x51nbaZY1rId",
        "outputId": "24d1410b-6a37-401b-c21b-0b334c0a3d9d",
        "colab": {
          "base_uri": "https://localhost:8080/"
        }
      },
      "source": [
        "# Another sample\n",
        "\n",
        "regr.predict([[3, 3, 0, 1200, 0, 0, 1, 15, 14.2]])"
      ],
      "execution_count": 81,
      "outputs": [
        {
          "output_type": "execute_result",
          "data": {
            "text/plain": [
              "array([490871.62684671])"
            ]
          },
          "metadata": {
            "tags": []
          },
          "execution_count": 81
        }
      ]
    },
    {
      "cell_type": "code",
      "metadata": {
        "id": "-laO_N7h1xrm",
        "outputId": "d4c14784-bd88-4d55-9ba2-dafde38662d4",
        "colab": {
          "base_uri": "https://localhost:8080/",
          "height": 420
        }
      },
      "source": [
        "# Plot the Residuals for the Training and Testing data\n",
        "\n",
        "plt.figure(figsize=(10, 6))\n",
        "plt.scatter(model.predict(X_train), model.predict(X_train) - y_train, c=\"blue\", label=\"Training Data\")\n",
        "plt.scatter(model.predict(X_test), model.predict(X_test) - y_test, c=\"orange\", label=\"Testing Data\")\n",
        "plt.legend()\n",
        "plt.hlines(y=0, xmin=y.min(), xmax=y.max())\n",
        "plt.title(\"Residual Plot\")"
      ],
      "execution_count": 86,
      "outputs": [
        {
          "output_type": "execute_result",
          "data": {
            "text/plain": [
              "Text(0.5, 1.0, 'Residual Plot')"
            ]
          },
          "metadata": {
            "tags": []
          },
          "execution_count": 86
        },
        {
          "output_type": "display_data",
          "data": {
            "image/png": "[encoded data removed]",
            "text/plain": [
              "<Figure size 720x432 with 1 Axes>"
            ]
          },
          "metadata": {
            "tags": []
          }
        }
      ]
    },
    {
      "cell_type": "code",
      "metadata": {
        "id": "phx2pdBA11Os"
      },
      "source": [
        ""
      ],
      "execution_count": null,
      "outputs": []
    }
  ]
}